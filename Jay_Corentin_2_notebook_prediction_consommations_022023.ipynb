{
 "cells": [
  {
   "cell_type": "markdown",
   "id": "c13560e2",
   "metadata": {},
   "source": [
    "# PREDICTION - CONSOMMATION D'ENERGIE"
   ]
  },
  {
   "cell_type": "markdown",
   "id": "05f81f88",
   "metadata": {},
   "source": [
    "Dans ce Notebook, nous nous concentrerons sur la consommation d'énergie.  \n",
    "Target = 'SiteEnergyUse(kBtu)'"
   ]
  },
  {
   "cell_type": "code",
   "execution_count": 1,
   "id": "819ff996",
   "metadata": {},
   "outputs": [],
   "source": [
    "# Importation des modules requis\n",
    "import plotly.express as px\n",
    "import pandas as pd\n",
    "import matplotlib.pyplot as plt\n",
    "import seaborn as sns\n",
    "import numpy as np\n",
    "import warnings\n",
    "import os\n",
    "import time\n",
    "import shap\n",
    "\n",
    "# Graphiques\n",
    "from pandas.plotting import scatter_matrix\n",
    "from matplotlib.collections import LineCollection\n",
    "\n",
    "# Pre processing (normalisation et encodage)\n",
    "from sklearn.preprocessing import *\n",
    "from sklearn.preprocessing import OneHotEncoder, MinMaxScaler, StandardScaler, PowerTransformer, OrdinalEncoder, RobustScaler, FunctionTransformer\n",
    "from category_encoders.target_encoder import TargetEncoder\n",
    "\n",
    "#feature importance\n",
    "from sklearn.datasets import load_boston\n",
    "from sklearn.inspection import permutation_importance\n",
    "\n",
    "# Pipeline\n",
    "from sklearn.pipeline import make_pipeline\n",
    "from sklearn.pipeline import Pipeline\n",
    "from sklearn.compose import TransformedTargetRegressor\n",
    "from sklearn.compose import make_column_transformer\n",
    "from sklearn.compose import ColumnTransformer\n",
    "\n",
    "# Modèles\n",
    "from sklearn.ensemble import RandomForestRegressor\n",
    "from sklearn.model_selection import train_test_split, StratifiedShuffleSplit, GridSearchCV\n",
    "from sklearn.linear_model import LinearRegression, Lasso, Ridge, SGDRegressor, ElasticNet\n",
    "from sklearn.svm import SVR\n",
    "from xgboost import XGBRegressor\n",
    "from xgboost import XGBClassifier\n",
    "from xgboost import plot_importance\n",
    "\n",
    "from sklearn.metrics import *\n",
    "\n",
    "from sklearn import set_config\n",
    "\n",
    "warnings.filterwarnings('ignore')"
   ]
  },
  {
   "cell_type": "code",
   "execution_count": 122,
   "id": "2eeb2e83",
   "metadata": {},
   "outputs": [
    {
     "data": {
      "text/html": [
       "<div>\n",
       "<style scoped>\n",
       "    .dataframe tbody tr th:only-of-type {\n",
       "        vertical-align: middle;\n",
       "    }\n",
       "\n",
       "    .dataframe tbody tr th {\n",
       "        vertical-align: top;\n",
       "    }\n",
       "\n",
       "    .dataframe thead th {\n",
       "        text-align: right;\n",
       "    }\n",
       "</style>\n",
       "<table border=\"1\" class=\"dataframe\">\n",
       "  <thead>\n",
       "    <tr style=\"text-align: right;\">\n",
       "      <th></th>\n",
       "      <th>Unnamed: 0</th>\n",
       "      <th>BuildingType</th>\n",
       "      <th>PrimaryPropertyType</th>\n",
       "      <th>ZipCode</th>\n",
       "      <th>TaxParcelIdentificationNumber</th>\n",
       "      <th>CouncilDistrictCode</th>\n",
       "      <th>Neighborhood</th>\n",
       "      <th>Latitude</th>\n",
       "      <th>Longitude</th>\n",
       "      <th>NumberofBuildings</th>\n",
       "      <th>...</th>\n",
       "      <th>PropertyGFATotal</th>\n",
       "      <th>LargestPropertyUseType</th>\n",
       "      <th>ENERGYSTARScore</th>\n",
       "      <th>SiteEnergyUse(kBtu)</th>\n",
       "      <th>TotalGHGEmissions</th>\n",
       "      <th>Age</th>\n",
       "      <th>prop_GFAParking</th>\n",
       "      <th>prop_Use1</th>\n",
       "      <th>prop_Use2</th>\n",
       "      <th>prop_Use3</th>\n",
       "    </tr>\n",
       "  </thead>\n",
       "  <tbody>\n",
       "    <tr>\n",
       "      <th>0</th>\n",
       "      <td>0</td>\n",
       "      <td>NonResidential</td>\n",
       "      <td>Hotel</td>\n",
       "      <td>98101.0</td>\n",
       "      <td>0659000030</td>\n",
       "      <td>7</td>\n",
       "      <td>DOWNTOWN</td>\n",
       "      <td>47.61220</td>\n",
       "      <td>-122.33799</td>\n",
       "      <td>1.0</td>\n",
       "      <td>...</td>\n",
       "      <td>88434</td>\n",
       "      <td>Hotel</td>\n",
       "      <td>60.0</td>\n",
       "      <td>7226362.5</td>\n",
       "      <td>249.98</td>\n",
       "      <td>89</td>\n",
       "      <td>0.000000</td>\n",
       "      <td>0.000000</td>\n",
       "      <td>0.000000</td>\n",
       "      <td>0.000000</td>\n",
       "    </tr>\n",
       "    <tr>\n",
       "      <th>1</th>\n",
       "      <td>1</td>\n",
       "      <td>NonResidential</td>\n",
       "      <td>Hotel</td>\n",
       "      <td>98101.0</td>\n",
       "      <td>0659000220</td>\n",
       "      <td>7</td>\n",
       "      <td>DOWNTOWN</td>\n",
       "      <td>47.61317</td>\n",
       "      <td>-122.33393</td>\n",
       "      <td>1.0</td>\n",
       "      <td>...</td>\n",
       "      <td>103566</td>\n",
       "      <td>Hotel</td>\n",
       "      <td>61.0</td>\n",
       "      <td>8387933.0</td>\n",
       "      <td>295.86</td>\n",
       "      <td>20</td>\n",
       "      <td>0.145453</td>\n",
       "      <td>0.809918</td>\n",
       "      <td>0.145453</td>\n",
       "      <td>0.044629</td>\n",
       "    </tr>\n",
       "    <tr>\n",
       "      <th>2</th>\n",
       "      <td>2</td>\n",
       "      <td>NonResidential</td>\n",
       "      <td>Hotel</td>\n",
       "      <td>98101.0</td>\n",
       "      <td>0659000475</td>\n",
       "      <td>7</td>\n",
       "      <td>DOWNTOWN</td>\n",
       "      <td>47.61393</td>\n",
       "      <td>-122.33810</td>\n",
       "      <td>1.0</td>\n",
       "      <td>...</td>\n",
       "      <td>956110</td>\n",
       "      <td>Hotel</td>\n",
       "      <td>43.0</td>\n",
       "      <td>72587024.0</td>\n",
       "      <td>2089.28</td>\n",
       "      <td>47</td>\n",
       "      <td>0.205748</td>\n",
       "      <td>0.000000</td>\n",
       "      <td>0.000000</td>\n",
       "      <td>0.000000</td>\n",
       "    </tr>\n",
       "    <tr>\n",
       "      <th>3</th>\n",
       "      <td>3</td>\n",
       "      <td>NonResidential</td>\n",
       "      <td>Hotel</td>\n",
       "      <td>98101.0</td>\n",
       "      <td>0659000640</td>\n",
       "      <td>7</td>\n",
       "      <td>DOWNTOWN</td>\n",
       "      <td>47.61412</td>\n",
       "      <td>-122.33664</td>\n",
       "      <td>1.0</td>\n",
       "      <td>...</td>\n",
       "      <td>61320</td>\n",
       "      <td>Hotel</td>\n",
       "      <td>56.0</td>\n",
       "      <td>6794584.0</td>\n",
       "      <td>286.43</td>\n",
       "      <td>90</td>\n",
       "      <td>0.000000</td>\n",
       "      <td>0.000000</td>\n",
       "      <td>0.000000</td>\n",
       "      <td>0.000000</td>\n",
       "    </tr>\n",
       "    <tr>\n",
       "      <th>4</th>\n",
       "      <td>4</td>\n",
       "      <td>NonResidential</td>\n",
       "      <td>Hotel</td>\n",
       "      <td>98121.0</td>\n",
       "      <td>0659000970</td>\n",
       "      <td>7</td>\n",
       "      <td>DOWNTOWN</td>\n",
       "      <td>47.61375</td>\n",
       "      <td>-122.34047</td>\n",
       "      <td>1.0</td>\n",
       "      <td>...</td>\n",
       "      <td>175580</td>\n",
       "      <td>Hotel</td>\n",
       "      <td>75.0</td>\n",
       "      <td>14172606.0</td>\n",
       "      <td>505.01</td>\n",
       "      <td>36</td>\n",
       "      <td>0.353115</td>\n",
       "      <td>0.644776</td>\n",
       "      <td>0.355224</td>\n",
       "      <td>0.000000</td>\n",
       "    </tr>\n",
       "  </tbody>\n",
       "</table>\n",
       "<p>5 rows × 21 columns</p>\n",
       "</div>"
      ],
      "text/plain": [
       "   Unnamed: 0    BuildingType PrimaryPropertyType  ZipCode  \\\n",
       "0           0  NonResidential               Hotel  98101.0   \n",
       "1           1  NonResidential               Hotel  98101.0   \n",
       "2           2  NonResidential               Hotel  98101.0   \n",
       "3           3  NonResidential               Hotel  98101.0   \n",
       "4           4  NonResidential               Hotel  98121.0   \n",
       "\n",
       "  TaxParcelIdentificationNumber  CouncilDistrictCode Neighborhood  Latitude  \\\n",
       "0                    0659000030                    7     DOWNTOWN  47.61220   \n",
       "1                    0659000220                    7     DOWNTOWN  47.61317   \n",
       "2                    0659000475                    7     DOWNTOWN  47.61393   \n",
       "3                    0659000640                    7     DOWNTOWN  47.61412   \n",
       "4                    0659000970                    7     DOWNTOWN  47.61375   \n",
       "\n",
       "   Longitude  NumberofBuildings  ...  PropertyGFATotal  \\\n",
       "0 -122.33799                1.0  ...             88434   \n",
       "1 -122.33393                1.0  ...            103566   \n",
       "2 -122.33810                1.0  ...            956110   \n",
       "3 -122.33664                1.0  ...             61320   \n",
       "4 -122.34047                1.0  ...            175580   \n",
       "\n",
       "   LargestPropertyUseType ENERGYSTARScore  SiteEnergyUse(kBtu)  \\\n",
       "0                   Hotel            60.0            7226362.5   \n",
       "1                   Hotel            61.0            8387933.0   \n",
       "2                   Hotel            43.0           72587024.0   \n",
       "3                   Hotel            56.0            6794584.0   \n",
       "4                   Hotel            75.0           14172606.0   \n",
       "\n",
       "   TotalGHGEmissions  Age  prop_GFAParking  prop_Use1  prop_Use2  prop_Use3  \n",
       "0             249.98   89         0.000000   0.000000   0.000000   0.000000  \n",
       "1             295.86   20         0.145453   0.809918   0.145453   0.044629  \n",
       "2            2089.28   47         0.205748   0.000000   0.000000   0.000000  \n",
       "3             286.43   90         0.000000   0.000000   0.000000   0.000000  \n",
       "4             505.01   36         0.353115   0.644776   0.355224   0.000000  \n",
       "\n",
       "[5 rows x 21 columns]"
      ]
     },
     "execution_count": 122,
     "metadata": {},
     "output_type": "execute_result"
    }
   ],
   "source": [
    "# Ouverture du Dataset\n",
    "path_file = 'cleaned_dataset.csv'\n",
    "dfdata = pd.read_csv(path_file, error_bad_lines=False, low_memory=False)\n",
    "dfdata.head()"
   ]
  },
  {
   "cell_type": "code",
   "execution_count": 123,
   "id": "1ece2841",
   "metadata": {},
   "outputs": [
    {
     "data": {
      "text/plain": [
       "Text(0.5, 1.0, \"Consommations d'énergie par ENERGYSTARScore et par BuildingType\\n\")"
      ]
     },
     "execution_count": 123,
     "metadata": {},
     "output_type": "execute_result"
    },
    {
     "data": {
      "image/png": "[encoded data removed]",
      "text/plain": [
       "<Figure size 900x600 with 1 Axes>"
      ]
     },
     "metadata": {},
     "output_type": "display_data"
    }
   ],
   "source": [
    "# Nuage de points Consommation d'énergie VS ENERGYSTARScore\n",
    "font_title = {'family': 'serif',\n",
    "              'color':  '#1d479b',\n",
    "              'weight': 'bold',\n",
    "              'size': 18,\n",
    "             }\n",
    "\n",
    "fig = plt.figure(figsize=(9,6))\n",
    "sns.scatterplot(data = dfdata, x='ENERGYSTARScore', y='SiteEnergyUse(kBtu)', hue='BuildingType')\n",
    "plt.title(f\"Consommations d'énergie par ENERGYSTARScore et par BuildingType\\n\", \n",
    "          fontdict=font_title, fontsize=12)"
   ]
  },
  {
   "cell_type": "markdown",
   "id": "0fd7b855",
   "metadata": {},
   "source": [
    "On note ici qu'il n'y a pas de corrélation particulière entre ENERGYSTARScore et la consommation d'énergie d'un bâtiment."
   ]
  },
  {
   "cell_type": "markdown",
   "id": "55abddb5",
   "metadata": {},
   "source": [
    "### Suppression colonnes inutiles / Définition target / Cleaning"
   ]
  },
  {
   "cell_type": "code",
   "execution_count": 124,
   "id": "4fe4ca70",
   "metadata": {},
   "outputs": [
    {
     "data": {
      "text/html": [
       "<div>\n",
       "<style scoped>\n",
       "    .dataframe tbody tr th:only-of-type {\n",
       "        vertical-align: middle;\n",
       "    }\n",
       "\n",
       "    .dataframe tbody tr th {\n",
       "        vertical-align: top;\n",
       "    }\n",
       "\n",
       "    .dataframe thead th {\n",
       "        text-align: right;\n",
       "    }\n",
       "</style>\n",
       "<table border=\"1\" class=\"dataframe\">\n",
       "  <thead>\n",
       "    <tr style=\"text-align: right;\">\n",
       "      <th></th>\n",
       "      <th>BuildingType</th>\n",
       "      <th>PrimaryPropertyType</th>\n",
       "      <th>ZipCode</th>\n",
       "      <th>TaxParcelIdentificationNumber</th>\n",
       "      <th>CouncilDistrictCode</th>\n",
       "      <th>Neighborhood</th>\n",
       "      <th>Latitude</th>\n",
       "      <th>Longitude</th>\n",
       "      <th>NumberofBuildings</th>\n",
       "      <th>NumberofFloors</th>\n",
       "      <th>PropertyGFATotal</th>\n",
       "      <th>LargestPropertyUseType</th>\n",
       "      <th>ENERGYSTARScore</th>\n",
       "      <th>SiteEnergyUse(kBtu)</th>\n",
       "      <th>Age</th>\n",
       "      <th>prop_GFAParking</th>\n",
       "      <th>prop_Use1</th>\n",
       "      <th>prop_Use2</th>\n",
       "      <th>prop_Use3</th>\n",
       "    </tr>\n",
       "  </thead>\n",
       "  <tbody>\n",
       "    <tr>\n",
       "      <th>0</th>\n",
       "      <td>NonResidential</td>\n",
       "      <td>Hotel</td>\n",
       "      <td>98101.0</td>\n",
       "      <td>0659000030</td>\n",
       "      <td>7</td>\n",
       "      <td>DOWNTOWN</td>\n",
       "      <td>47.61220</td>\n",
       "      <td>-122.33799</td>\n",
       "      <td>1.0</td>\n",
       "      <td>12</td>\n",
       "      <td>88434</td>\n",
       "      <td>Hotel</td>\n",
       "      <td>60.0</td>\n",
       "      <td>7226362.50</td>\n",
       "      <td>89</td>\n",
       "      <td>0.000000</td>\n",
       "      <td>0.000000</td>\n",
       "      <td>0.000000</td>\n",
       "      <td>0.000000</td>\n",
       "    </tr>\n",
       "    <tr>\n",
       "      <th>1</th>\n",
       "      <td>NonResidential</td>\n",
       "      <td>Hotel</td>\n",
       "      <td>98101.0</td>\n",
       "      <td>0659000220</td>\n",
       "      <td>7</td>\n",
       "      <td>DOWNTOWN</td>\n",
       "      <td>47.61317</td>\n",
       "      <td>-122.33393</td>\n",
       "      <td>1.0</td>\n",
       "      <td>11</td>\n",
       "      <td>103566</td>\n",
       "      <td>Hotel</td>\n",
       "      <td>61.0</td>\n",
       "      <td>8387933.00</td>\n",
       "      <td>20</td>\n",
       "      <td>0.145453</td>\n",
       "      <td>0.809918</td>\n",
       "      <td>0.145453</td>\n",
       "      <td>0.044629</td>\n",
       "    </tr>\n",
       "    <tr>\n",
       "      <th>2</th>\n",
       "      <td>NonResidential</td>\n",
       "      <td>Hotel</td>\n",
       "      <td>98101.0</td>\n",
       "      <td>0659000475</td>\n",
       "      <td>7</td>\n",
       "      <td>DOWNTOWN</td>\n",
       "      <td>47.61393</td>\n",
       "      <td>-122.33810</td>\n",
       "      <td>1.0</td>\n",
       "      <td>41</td>\n",
       "      <td>956110</td>\n",
       "      <td>Hotel</td>\n",
       "      <td>43.0</td>\n",
       "      <td>72587024.00</td>\n",
       "      <td>47</td>\n",
       "      <td>0.205748</td>\n",
       "      <td>0.000000</td>\n",
       "      <td>0.000000</td>\n",
       "      <td>0.000000</td>\n",
       "    </tr>\n",
       "    <tr>\n",
       "      <th>3</th>\n",
       "      <td>NonResidential</td>\n",
       "      <td>Hotel</td>\n",
       "      <td>98101.0</td>\n",
       "      <td>0659000640</td>\n",
       "      <td>7</td>\n",
       "      <td>DOWNTOWN</td>\n",
       "      <td>47.61412</td>\n",
       "      <td>-122.33664</td>\n",
       "      <td>1.0</td>\n",
       "      <td>10</td>\n",
       "      <td>61320</td>\n",
       "      <td>Hotel</td>\n",
       "      <td>56.0</td>\n",
       "      <td>6794584.00</td>\n",
       "      <td>90</td>\n",
       "      <td>0.000000</td>\n",
       "      <td>0.000000</td>\n",
       "      <td>0.000000</td>\n",
       "      <td>0.000000</td>\n",
       "    </tr>\n",
       "    <tr>\n",
       "      <th>4</th>\n",
       "      <td>NonResidential</td>\n",
       "      <td>Hotel</td>\n",
       "      <td>98121.0</td>\n",
       "      <td>0659000970</td>\n",
       "      <td>7</td>\n",
       "      <td>DOWNTOWN</td>\n",
       "      <td>47.61375</td>\n",
       "      <td>-122.34047</td>\n",
       "      <td>1.0</td>\n",
       "      <td>18</td>\n",
       "      <td>175580</td>\n",
       "      <td>Hotel</td>\n",
       "      <td>75.0</td>\n",
       "      <td>14172606.00</td>\n",
       "      <td>36</td>\n",
       "      <td>0.353115</td>\n",
       "      <td>0.644776</td>\n",
       "      <td>0.355224</td>\n",
       "      <td>0.000000</td>\n",
       "    </tr>\n",
       "    <tr>\n",
       "      <th>...</th>\n",
       "      <td>...</td>\n",
       "      <td>...</td>\n",
       "      <td>...</td>\n",
       "      <td>...</td>\n",
       "      <td>...</td>\n",
       "      <td>...</td>\n",
       "      <td>...</td>\n",
       "      <td>...</td>\n",
       "      <td>...</td>\n",
       "      <td>...</td>\n",
       "      <td>...</td>\n",
       "      <td>...</td>\n",
       "      <td>...</td>\n",
       "      <td>...</td>\n",
       "      <td>...</td>\n",
       "      <td>...</td>\n",
       "      <td>...</td>\n",
       "      <td>...</td>\n",
       "      <td>...</td>\n",
       "    </tr>\n",
       "    <tr>\n",
       "      <th>1518</th>\n",
       "      <td>NonResidential</td>\n",
       "      <td>Small- and Mid-Sized Office</td>\n",
       "      <td>98108.0</td>\n",
       "      <td>2824049007</td>\n",
       "      <td>2</td>\n",
       "      <td>GREATER DUWAMISH</td>\n",
       "      <td>47.53161</td>\n",
       "      <td>-122.29944</td>\n",
       "      <td>1.0</td>\n",
       "      <td>2</td>\n",
       "      <td>24990</td>\n",
       "      <td>Office</td>\n",
       "      <td>9.0</td>\n",
       "      <td>4420650.50</td>\n",
       "      <td>87</td>\n",
       "      <td>0.000000</td>\n",
       "      <td>0.000000</td>\n",
       "      <td>0.000000</td>\n",
       "      <td>0.000000</td>\n",
       "    </tr>\n",
       "    <tr>\n",
       "      <th>1519</th>\n",
       "      <td>NonResidential</td>\n",
       "      <td>Other</td>\n",
       "      <td>98155.0</td>\n",
       "      <td>0225049062</td>\n",
       "      <td>4</td>\n",
       "      <td>NORTHEAST</td>\n",
       "      <td>47.68109</td>\n",
       "      <td>-122.26180</td>\n",
       "      <td>1.0</td>\n",
       "      <td>1</td>\n",
       "      <td>72000</td>\n",
       "      <td>Other - Recreation</td>\n",
       "      <td>NaN</td>\n",
       "      <td>2925780.00</td>\n",
       "      <td>3</td>\n",
       "      <td>0.000000</td>\n",
       "      <td>0.000000</td>\n",
       "      <td>0.000000</td>\n",
       "      <td>0.000000</td>\n",
       "    </tr>\n",
       "    <tr>\n",
       "      <th>1520</th>\n",
       "      <td>NonResidential</td>\n",
       "      <td>K-12 School</td>\n",
       "      <td>98144.0</td>\n",
       "      <td>7548300840</td>\n",
       "      <td>3</td>\n",
       "      <td>GREATER DUWAMISH</td>\n",
       "      <td>47.58831</td>\n",
       "      <td>-122.30650</td>\n",
       "      <td>1.0</td>\n",
       "      <td>3</td>\n",
       "      <td>45000</td>\n",
       "      <td>K-12 School</td>\n",
       "      <td>77.0</td>\n",
       "      <td>1325972.75</td>\n",
       "      <td>1</td>\n",
       "      <td>0.000000</td>\n",
       "      <td>0.000000</td>\n",
       "      <td>0.000000</td>\n",
       "      <td>0.000000</td>\n",
       "    </tr>\n",
       "    <tr>\n",
       "      <th>1521</th>\n",
       "      <td>NonResidential</td>\n",
       "      <td>Mixed Use Property</td>\n",
       "      <td>98109.0</td>\n",
       "      <td>4088803385</td>\n",
       "      <td>7</td>\n",
       "      <td>LAKE UNION</td>\n",
       "      <td>47.62497</td>\n",
       "      <td>-122.33883</td>\n",
       "      <td>1.0</td>\n",
       "      <td>6</td>\n",
       "      <td>345290</td>\n",
       "      <td>Laboratory</td>\n",
       "      <td>NaN</td>\n",
       "      <td>39364116.00</td>\n",
       "      <td>1</td>\n",
       "      <td>0.246251</td>\n",
       "      <td>0.443020</td>\n",
       "      <td>0.311377</td>\n",
       "      <td>0.245603</td>\n",
       "    </tr>\n",
       "    <tr>\n",
       "      <th>1522</th>\n",
       "      <td>Nonresidential WA</td>\n",
       "      <td>University</td>\n",
       "      <td>98195.0</td>\n",
       "      <td>1625049001</td>\n",
       "      <td>4</td>\n",
       "      <td>NORTHEAST</td>\n",
       "      <td>47.66127</td>\n",
       "      <td>-122.31256</td>\n",
       "      <td>1.0</td>\n",
       "      <td>1</td>\n",
       "      <td>68072</td>\n",
       "      <td>College/University</td>\n",
       "      <td>NaN</td>\n",
       "      <td>3180819.25</td>\n",
       "      <td>54</td>\n",
       "      <td>0.000000</td>\n",
       "      <td>0.000000</td>\n",
       "      <td>0.000000</td>\n",
       "      <td>0.000000</td>\n",
       "    </tr>\n",
       "  </tbody>\n",
       "</table>\n",
       "<p>1523 rows × 19 columns</p>\n",
       "</div>"
      ],
      "text/plain": [
       "           BuildingType          PrimaryPropertyType  ZipCode  \\\n",
       "0        NonResidential                        Hotel  98101.0   \n",
       "1        NonResidential                        Hotel  98101.0   \n",
       "2        NonResidential                        Hotel  98101.0   \n",
       "3        NonResidential                        Hotel  98101.0   \n",
       "4        NonResidential                        Hotel  98121.0   \n",
       "...                 ...                          ...      ...   \n",
       "1518     NonResidential  Small- and Mid-Sized Office  98108.0   \n",
       "1519     NonResidential                        Other  98155.0   \n",
       "1520     NonResidential                  K-12 School  98144.0   \n",
       "1521     NonResidential           Mixed Use Property  98109.0   \n",
       "1522  Nonresidential WA                   University  98195.0   \n",
       "\n",
       "     TaxParcelIdentificationNumber  CouncilDistrictCode      Neighborhood  \\\n",
       "0                       0659000030                    7          DOWNTOWN   \n",
       "1                       0659000220                    7          DOWNTOWN   \n",
       "2                       0659000475                    7          DOWNTOWN   \n",
       "3                       0659000640                    7          DOWNTOWN   \n",
       "4                       0659000970                    7          DOWNTOWN   \n",
       "...                            ...                  ...               ...   \n",
       "1518                    2824049007                    2  GREATER DUWAMISH   \n",
       "1519                    0225049062                    4         NORTHEAST   \n",
       "1520                    7548300840                    3  GREATER DUWAMISH   \n",
       "1521                    4088803385                    7        LAKE UNION   \n",
       "1522                    1625049001                    4         NORTHEAST   \n",
       "\n",
       "      Latitude  Longitude  NumberofBuildings  NumberofFloors  \\\n",
       "0     47.61220 -122.33799                1.0              12   \n",
       "1     47.61317 -122.33393                1.0              11   \n",
       "2     47.61393 -122.33810                1.0              41   \n",
       "3     47.61412 -122.33664                1.0              10   \n",
       "4     47.61375 -122.34047                1.0              18   \n",
       "...        ...        ...                ...             ...   \n",
       "1518  47.53161 -122.29944                1.0               2   \n",
       "1519  47.68109 -122.26180                1.0               1   \n",
       "1520  47.58831 -122.30650                1.0               3   \n",
       "1521  47.62497 -122.33883                1.0               6   \n",
       "1522  47.66127 -122.31256                1.0               1   \n",
       "\n",
       "      PropertyGFATotal LargestPropertyUseType  ENERGYSTARScore  \\\n",
       "0                88434                  Hotel             60.0   \n",
       "1               103566                  Hotel             61.0   \n",
       "2               956110                  Hotel             43.0   \n",
       "3                61320                  Hotel             56.0   \n",
       "4               175580                  Hotel             75.0   \n",
       "...                ...                    ...              ...   \n",
       "1518             24990                 Office              9.0   \n",
       "1519             72000     Other - Recreation              NaN   \n",
       "1520             45000            K-12 School             77.0   \n",
       "1521            345290             Laboratory              NaN   \n",
       "1522             68072     College/University              NaN   \n",
       "\n",
       "      SiteEnergyUse(kBtu)  Age  prop_GFAParking  prop_Use1  prop_Use2  \\\n",
       "0              7226362.50   89         0.000000   0.000000   0.000000   \n",
       "1              8387933.00   20         0.145453   0.809918   0.145453   \n",
       "2             72587024.00   47         0.205748   0.000000   0.000000   \n",
       "3              6794584.00   90         0.000000   0.000000   0.000000   \n",
       "4             14172606.00   36         0.353115   0.644776   0.355224   \n",
       "...                   ...  ...              ...        ...        ...   \n",
       "1518           4420650.50   87         0.000000   0.000000   0.000000   \n",
       "1519           2925780.00    3         0.000000   0.000000   0.000000   \n",
       "1520           1325972.75    1         0.000000   0.000000   0.000000   \n",
       "1521          39364116.00    1         0.246251   0.443020   0.311377   \n",
       "1522           3180819.25   54         0.000000   0.000000   0.000000   \n",
       "\n",
       "      prop_Use3  \n",
       "0      0.000000  \n",
       "1      0.044629  \n",
       "2      0.000000  \n",
       "3      0.000000  \n",
       "4      0.000000  \n",
       "...         ...  \n",
       "1518   0.000000  \n",
       "1519   0.000000  \n",
       "1520   0.000000  \n",
       "1521   0.245603  \n",
       "1522   0.000000  \n",
       "\n",
       "[1523 rows x 19 columns]"
      ]
     },
     "execution_count": 124,
     "metadata": {},
     "output_type": "execute_result"
    }
   ],
   "source": [
    "cols_to_drop = ['Unnamed: 0',\n",
    "                'TotalGHGEmissions']\n",
    "\n",
    "target = ['SiteEnergyUse(kBtu)']\n",
    "\n",
    "dfdata.drop(cols_to_drop,axis=1, inplace=True)\n",
    "dfdata"
   ]
  },
  {
   "cell_type": "code",
   "execution_count": 125,
   "id": "1dbb17b4",
   "metadata": {},
   "outputs": [
    {
     "data": {
      "text/html": [
       "<div>\n",
       "<style scoped>\n",
       "    .dataframe tbody tr th:only-of-type {\n",
       "        vertical-align: middle;\n",
       "    }\n",
       "\n",
       "    .dataframe tbody tr th {\n",
       "        vertical-align: top;\n",
       "    }\n",
       "\n",
       "    .dataframe thead th {\n",
       "        text-align: right;\n",
       "    }\n",
       "</style>\n",
       "<table border=\"1\" class=\"dataframe\">\n",
       "  <thead>\n",
       "    <tr style=\"text-align: right;\">\n",
       "      <th></th>\n",
       "      <th>BuildingType</th>\n",
       "      <th>PrimaryPropertyType</th>\n",
       "      <th>ZipCode</th>\n",
       "      <th>TaxParcelIdentificationNumber</th>\n",
       "      <th>CouncilDistrictCode</th>\n",
       "      <th>Neighborhood</th>\n",
       "      <th>Latitude</th>\n",
       "      <th>Longitude</th>\n",
       "      <th>NumberofBuildings</th>\n",
       "      <th>NumberofFloors</th>\n",
       "      <th>PropertyGFATotal</th>\n",
       "      <th>LargestPropertyUseType</th>\n",
       "      <th>ENERGYSTARScore</th>\n",
       "      <th>SiteEnergyUse(kBtu)</th>\n",
       "      <th>Age</th>\n",
       "      <th>prop_GFAParking</th>\n",
       "      <th>prop_Use1</th>\n",
       "      <th>prop_Use2</th>\n",
       "      <th>prop_Use3</th>\n",
       "    </tr>\n",
       "  </thead>\n",
       "  <tbody>\n",
       "    <tr>\n",
       "      <th>5</th>\n",
       "      <td>Nonresidential COS</td>\n",
       "      <td>Other</td>\n",
       "      <td>98101.0</td>\n",
       "      <td>0660000560</td>\n",
       "      <td>7</td>\n",
       "      <td>DOWNTOWN</td>\n",
       "      <td>47.61623</td>\n",
       "      <td>-122.33657</td>\n",
       "      <td>1.0</td>\n",
       "      <td>2</td>\n",
       "      <td>97288</td>\n",
       "      <td>Police Station</td>\n",
       "      <td>NaN</td>\n",
       "      <td>1.208662e+07</td>\n",
       "      <td>17</td>\n",
       "      <td>0.382349</td>\n",
       "      <td>0.000000</td>\n",
       "      <td>0.000000</td>\n",
       "      <td>0.000000</td>\n",
       "    </tr>\n",
       "    <tr>\n",
       "      <th>7</th>\n",
       "      <td>NonResidential</td>\n",
       "      <td>Other</td>\n",
       "      <td>98101.0</td>\n",
       "      <td>0660000955</td>\n",
       "      <td>7</td>\n",
       "      <td>DOWNTOWN</td>\n",
       "      <td>47.61327</td>\n",
       "      <td>-122.33136</td>\n",
       "      <td>1.0</td>\n",
       "      <td>8</td>\n",
       "      <td>102761</td>\n",
       "      <td>Other - Entertainment/Public Assembly</td>\n",
       "      <td>NaN</td>\n",
       "      <td>6.298132e+06</td>\n",
       "      <td>90</td>\n",
       "      <td>0.000000</td>\n",
       "      <td>0.000000</td>\n",
       "      <td>0.000000</td>\n",
       "      <td>0.000000</td>\n",
       "    </tr>\n",
       "    <tr>\n",
       "      <th>14</th>\n",
       "      <td>Nonresidential COS</td>\n",
       "      <td>Other</td>\n",
       "      <td>98154.0</td>\n",
       "      <td>0942000275</td>\n",
       "      <td>7</td>\n",
       "      <td>DOWNTOWN</td>\n",
       "      <td>47.60649</td>\n",
       "      <td>-122.33297</td>\n",
       "      <td>1.0</td>\n",
       "      <td>11</td>\n",
       "      <td>412000</td>\n",
       "      <td>Library</td>\n",
       "      <td>NaN</td>\n",
       "      <td>1.858886e+07</td>\n",
       "      <td>12</td>\n",
       "      <td>0.138350</td>\n",
       "      <td>0.879336</td>\n",
       "      <td>0.118076</td>\n",
       "      <td>0.002588</td>\n",
       "    </tr>\n",
       "    <tr>\n",
       "      <th>15</th>\n",
       "      <td>NonResidential</td>\n",
       "      <td>Other</td>\n",
       "      <td>98104.0</td>\n",
       "      <td>0942000350</td>\n",
       "      <td>7</td>\n",
       "      <td>DOWNTOWN</td>\n",
       "      <td>47.60546</td>\n",
       "      <td>-122.33279</td>\n",
       "      <td>1.0</td>\n",
       "      <td>6</td>\n",
       "      <td>103911</td>\n",
       "      <td>Fitness Center/Health Club/Gym</td>\n",
       "      <td>NaN</td>\n",
       "      <td>9.956396e+06</td>\n",
       "      <td>86</td>\n",
       "      <td>0.000000</td>\n",
       "      <td>0.692308</td>\n",
       "      <td>0.307692</td>\n",
       "      <td>0.000000</td>\n",
       "    </tr>\n",
       "    <tr>\n",
       "      <th>17</th>\n",
       "      <td>NonResidential</td>\n",
       "      <td>Mixed Use Property</td>\n",
       "      <td>98104.0</td>\n",
       "      <td>0942000510</td>\n",
       "      <td>7</td>\n",
       "      <td>DOWNTOWN</td>\n",
       "      <td>47.60515</td>\n",
       "      <td>-122.33159</td>\n",
       "      <td>1.0</td>\n",
       "      <td>5</td>\n",
       "      <td>57452</td>\n",
       "      <td>Social/Meeting Hall</td>\n",
       "      <td>NaN</td>\n",
       "      <td>7.606084e+06</td>\n",
       "      <td>109</td>\n",
       "      <td>0.000000</td>\n",
       "      <td>0.394406</td>\n",
       "      <td>0.371930</td>\n",
       "      <td>0.233664</td>\n",
       "    </tr>\n",
       "    <tr>\n",
       "      <th>...</th>\n",
       "      <td>...</td>\n",
       "      <td>...</td>\n",
       "      <td>...</td>\n",
       "      <td>...</td>\n",
       "      <td>...</td>\n",
       "      <td>...</td>\n",
       "      <td>...</td>\n",
       "      <td>...</td>\n",
       "      <td>...</td>\n",
       "      <td>...</td>\n",
       "      <td>...</td>\n",
       "      <td>...</td>\n",
       "      <td>...</td>\n",
       "      <td>...</td>\n",
       "      <td>...</td>\n",
       "      <td>...</td>\n",
       "      <td>...</td>\n",
       "      <td>...</td>\n",
       "      <td>...</td>\n",
       "    </tr>\n",
       "    <tr>\n",
       "      <th>1512</th>\n",
       "      <td>NonResidential</td>\n",
       "      <td>Mixed Use Property</td>\n",
       "      <td>98199.0</td>\n",
       "      <td>2771605298</td>\n",
       "      <td>7</td>\n",
       "      <td>MAGNOLIA / QUEEN ANNE</td>\n",
       "      <td>47.66144</td>\n",
       "      <td>-122.38723</td>\n",
       "      <td>1.0</td>\n",
       "      <td>2</td>\n",
       "      <td>25532</td>\n",
       "      <td>Office</td>\n",
       "      <td>NaN</td>\n",
       "      <td>6.278541e+05</td>\n",
       "      <td>2</td>\n",
       "      <td>0.000000</td>\n",
       "      <td>0.000000</td>\n",
       "      <td>0.000000</td>\n",
       "      <td>0.000000</td>\n",
       "    </tr>\n",
       "    <tr>\n",
       "      <th>1513</th>\n",
       "      <td>NonResidential</td>\n",
       "      <td>Other</td>\n",
       "      <td>98134.0</td>\n",
       "      <td>7666203255</td>\n",
       "      <td>2</td>\n",
       "      <td>GREATER DUWAMISH</td>\n",
       "      <td>47.58542</td>\n",
       "      <td>-122.32185</td>\n",
       "      <td>1.0</td>\n",
       "      <td>2</td>\n",
       "      <td>108036</td>\n",
       "      <td>Parking</td>\n",
       "      <td>NaN</td>\n",
       "      <td>4.991894e+06</td>\n",
       "      <td>1</td>\n",
       "      <td>0.000000</td>\n",
       "      <td>0.000000</td>\n",
       "      <td>0.000000</td>\n",
       "      <td>0.000000</td>\n",
       "    </tr>\n",
       "    <tr>\n",
       "      <th>1519</th>\n",
       "      <td>NonResidential</td>\n",
       "      <td>Other</td>\n",
       "      <td>98155.0</td>\n",
       "      <td>0225049062</td>\n",
       "      <td>4</td>\n",
       "      <td>NORTHEAST</td>\n",
       "      <td>47.68109</td>\n",
       "      <td>-122.26180</td>\n",
       "      <td>1.0</td>\n",
       "      <td>1</td>\n",
       "      <td>72000</td>\n",
       "      <td>Other - Recreation</td>\n",
       "      <td>NaN</td>\n",
       "      <td>2.925780e+06</td>\n",
       "      <td>3</td>\n",
       "      <td>0.000000</td>\n",
       "      <td>0.000000</td>\n",
       "      <td>0.000000</td>\n",
       "      <td>0.000000</td>\n",
       "    </tr>\n",
       "    <tr>\n",
       "      <th>1521</th>\n",
       "      <td>NonResidential</td>\n",
       "      <td>Mixed Use Property</td>\n",
       "      <td>98109.0</td>\n",
       "      <td>4088803385</td>\n",
       "      <td>7</td>\n",
       "      <td>LAKE UNION</td>\n",
       "      <td>47.62497</td>\n",
       "      <td>-122.33883</td>\n",
       "      <td>1.0</td>\n",
       "      <td>6</td>\n",
       "      <td>345290</td>\n",
       "      <td>Laboratory</td>\n",
       "      <td>NaN</td>\n",
       "      <td>3.936412e+07</td>\n",
       "      <td>1</td>\n",
       "      <td>0.246251</td>\n",
       "      <td>0.443020</td>\n",
       "      <td>0.311377</td>\n",
       "      <td>0.245603</td>\n",
       "    </tr>\n",
       "    <tr>\n",
       "      <th>1522</th>\n",
       "      <td>Nonresidential WA</td>\n",
       "      <td>University</td>\n",
       "      <td>98195.0</td>\n",
       "      <td>1625049001</td>\n",
       "      <td>4</td>\n",
       "      <td>NORTHEAST</td>\n",
       "      <td>47.66127</td>\n",
       "      <td>-122.31256</td>\n",
       "      <td>1.0</td>\n",
       "      <td>1</td>\n",
       "      <td>68072</td>\n",
       "      <td>College/University</td>\n",
       "      <td>NaN</td>\n",
       "      <td>3.180819e+06</td>\n",
       "      <td>54</td>\n",
       "      <td>0.000000</td>\n",
       "      <td>0.000000</td>\n",
       "      <td>0.000000</td>\n",
       "      <td>0.000000</td>\n",
       "    </tr>\n",
       "  </tbody>\n",
       "</table>\n",
       "<p>534 rows × 19 columns</p>\n",
       "</div>"
      ],
      "text/plain": [
       "            BuildingType PrimaryPropertyType  ZipCode  \\\n",
       "5     Nonresidential COS               Other  98101.0   \n",
       "7         NonResidential               Other  98101.0   \n",
       "14    Nonresidential COS               Other  98154.0   \n",
       "15        NonResidential               Other  98104.0   \n",
       "17        NonResidential  Mixed Use Property  98104.0   \n",
       "...                  ...                 ...      ...   \n",
       "1512      NonResidential  Mixed Use Property  98199.0   \n",
       "1513      NonResidential               Other  98134.0   \n",
       "1519      NonResidential               Other  98155.0   \n",
       "1521      NonResidential  Mixed Use Property  98109.0   \n",
       "1522   Nonresidential WA          University  98195.0   \n",
       "\n",
       "     TaxParcelIdentificationNumber  CouncilDistrictCode  \\\n",
       "5                       0660000560                    7   \n",
       "7                       0660000955                    7   \n",
       "14                      0942000275                    7   \n",
       "15                      0942000350                    7   \n",
       "17                      0942000510                    7   \n",
       "...                            ...                  ...   \n",
       "1512                    2771605298                    7   \n",
       "1513                    7666203255                    2   \n",
       "1519                    0225049062                    4   \n",
       "1521                    4088803385                    7   \n",
       "1522                    1625049001                    4   \n",
       "\n",
       "               Neighborhood  Latitude  Longitude  NumberofBuildings  \\\n",
       "5                  DOWNTOWN  47.61623 -122.33657                1.0   \n",
       "7                  DOWNTOWN  47.61327 -122.33136                1.0   \n",
       "14                 DOWNTOWN  47.60649 -122.33297                1.0   \n",
       "15                 DOWNTOWN  47.60546 -122.33279                1.0   \n",
       "17                 DOWNTOWN  47.60515 -122.33159                1.0   \n",
       "...                     ...       ...        ...                ...   \n",
       "1512  MAGNOLIA / QUEEN ANNE  47.66144 -122.38723                1.0   \n",
       "1513       GREATER DUWAMISH  47.58542 -122.32185                1.0   \n",
       "1519              NORTHEAST  47.68109 -122.26180                1.0   \n",
       "1521             LAKE UNION  47.62497 -122.33883                1.0   \n",
       "1522              NORTHEAST  47.66127 -122.31256                1.0   \n",
       "\n",
       "      NumberofFloors  PropertyGFATotal                 LargestPropertyUseType  \\\n",
       "5                  2             97288                         Police Station   \n",
       "7                  8            102761  Other - Entertainment/Public Assembly   \n",
       "14                11            412000                                Library   \n",
       "15                 6            103911         Fitness Center/Health Club/Gym   \n",
       "17                 5             57452                    Social/Meeting Hall   \n",
       "...              ...               ...                                    ...   \n",
       "1512               2             25532                                 Office   \n",
       "1513               2            108036                                Parking   \n",
       "1519               1             72000                     Other - Recreation   \n",
       "1521               6            345290                             Laboratory   \n",
       "1522               1             68072                     College/University   \n",
       "\n",
       "      ENERGYSTARScore  SiteEnergyUse(kBtu)  Age  prop_GFAParking  prop_Use1  \\\n",
       "5                 NaN         1.208662e+07   17         0.382349   0.000000   \n",
       "7                 NaN         6.298132e+06   90         0.000000   0.000000   \n",
       "14                NaN         1.858886e+07   12         0.138350   0.879336   \n",
       "15                NaN         9.956396e+06   86         0.000000   0.692308   \n",
       "17                NaN         7.606084e+06  109         0.000000   0.394406   \n",
       "...               ...                  ...  ...              ...        ...   \n",
       "1512              NaN         6.278541e+05    2         0.000000   0.000000   \n",
       "1513              NaN         4.991894e+06    1         0.000000   0.000000   \n",
       "1519              NaN         2.925780e+06    3         0.000000   0.000000   \n",
       "1521              NaN         3.936412e+07    1         0.246251   0.443020   \n",
       "1522              NaN         3.180819e+06   54         0.000000   0.000000   \n",
       "\n",
       "      prop_Use2  prop_Use3  \n",
       "5      0.000000   0.000000  \n",
       "7      0.000000   0.000000  \n",
       "14     0.118076   0.002588  \n",
       "15     0.307692   0.000000  \n",
       "17     0.371930   0.233664  \n",
       "...         ...        ...  \n",
       "1512   0.000000   0.000000  \n",
       "1513   0.000000   0.000000  \n",
       "1519   0.000000   0.000000  \n",
       "1521   0.311377   0.245603  \n",
       "1522   0.000000   0.000000  \n",
       "\n",
       "[534 rows x 19 columns]"
      ]
     },
     "execution_count": 125,
     "metadata": {},
     "output_type": "execute_result"
    }
   ],
   "source": [
    "# Dernier contrôle des valeurs nulles\n",
    "dfdata[dfdata.isna().any(axis=1)]"
   ]
  },
  {
   "cell_type": "markdown",
   "id": "f542dd98",
   "metadata": {},
   "source": [
    "Les valeurs nulles restantes sont principalement dans la variable ENERGYSTARScore.  \n",
    "Dans une première analyse, cette variable sera retirée.  \n",
    "Dans la seconde partie, nous traiterons ces valeurs nulles.  "
   ]
  },
  {
   "cell_type": "markdown",
   "id": "e9017966",
   "metadata": {},
   "source": [
    "#### Etudions le passage de la target y au log :"
   ]
  },
  {
   "cell_type": "code",
   "execution_count": 126,
   "id": "780cc3e3",
   "metadata": {},
   "outputs": [
    {
     "data": {
      "image/png": "[encoded data removed]",
      "text/plain": [
       "<Figure size 2000x800 with 2 Axes>"
      ]
     },
     "metadata": {},
     "output_type": "display_data"
    }
   ],
   "source": [
    "y_col = target\n",
    "y = dfdata[y_col]\n",
    "logtransformer = FunctionTransformer(np.log, inverse_func = np.exp, check_inverse = True)\n",
    "y_log = logtransformer.transform(y)\n",
    "X = dfdata.drop(y, axis = 1)\n",
    "\n",
    "fig, axes = plt.subplots(nrows=1, ncols=2, sharex=False, sharey=False, figsize=(20,8))\n",
    "sns.histplot(data=y, x='SiteEnergyUse(kBtu)', stat=\"density\", ax=axes[0])\n",
    "axes[0].set_title(\"Sans Log\")\n",
    "sns.histplot(data=y_log, x='SiteEnergyUse(kBtu)', stat=\"density\", ax=axes[1])\n",
    "axes[1].set_title(\"Avec Log\")\n",
    "plt.suptitle(\"Distribution de la consommation d'énergie avec changement d'échelle\", fontsize=22)\n",
    "plt.show()"
   ]
  },
  {
   "cell_type": "markdown",
   "id": "8e1c42ca",
   "metadata": {},
   "source": [
    "#### Format du Dataset de modélisation :"
   ]
  },
  {
   "cell_type": "code",
   "execution_count": 127,
   "id": "c5c75fc1",
   "metadata": {},
   "outputs": [
    {
     "name": "stdout",
     "output_type": "stream",
     "text": [
      " Format de X : (1523, 18)\n",
      " Format de y : (1523, 1)\n"
     ]
    }
   ],
   "source": [
    "print(\" Format de X : {}\".format(X.shape))\n",
    "print(\" Format de y : {}\".format(y.shape))"
   ]
  },
  {
   "cell_type": "markdown",
   "id": "bc5a716b",
   "metadata": {},
   "source": [
    "#### Feature engineering (module preprocessing de ScikitLearn) :  \n",
    "  \n",
    "    - Variables quantitatives :  \n",
    "        MinMaxScaler : normalise les données sur une échelle de 0 à 1, sensible aux outliers      \n",
    "        RobustScaler : normalise les données en fonction des quartiles 1 et 3, peu sensible aux outliers  \n",
    "        StandardScaler : chaque variable a une moyenne 0 et écart-type 1, sensible aux outliers  \n",
    "      \n",
    "    - Variables qualitatives :  \n",
    "        Encodage One Hot  \n",
    "            OneHotEncoder : chaque catégorie est représentée de façon binaire dans une colonne propre.     \n",
    "            TargetEncoder : la probabilité d'occurence de chaque variable dans une seule colonnes.  \n",
    "        Encodage ordinal  \n",
    "            LabelEncoder : encodage d'une seule colonne (target), inutilisable ici.      \n",
    "            OrdinalEncoder : encodage pour plusieurs colonnes, inutilisable ici."
   ]
  },
  {
   "cell_type": "markdown",
   "id": "a98dd62d",
   "metadata": {},
   "source": [
    "Nous utliserons le MinMaxScaler() pour les variables quantitatives, puis étudierons le OneHotEncoder() et le TargetEncoder() pour les variables qualitatives."
   ]
  },
  {
   "cell_type": "markdown",
   "id": "aec08e16",
   "metadata": {},
   "source": [
    "# 1. CONSOMMATION BRUTE - SANS ENERGYSTARSCORE"
   ]
  },
  {
   "cell_type": "markdown",
   "id": "0132af7c",
   "metadata": {},
   "source": [
    "#### Suppression de la colonne ENERGYSTARScore"
   ]
  },
  {
   "cell_type": "code",
   "execution_count": 128,
   "id": "cfcc4cc3",
   "metadata": {},
   "outputs": [],
   "source": [
    "X.drop(['ENERGYSTARScore'], axis=1, inplace=True)"
   ]
  },
  {
   "cell_type": "markdown",
   "id": "5ccaeb0f",
   "metadata": {},
   "source": [
    "#### Définition des groupes de colonnes : quantitatives et qualitatives "
   ]
  },
  {
   "cell_type": "code",
   "execution_count": 129,
   "id": "29f0c4e6",
   "metadata": {},
   "outputs": [
    {
     "name": "stdout",
     "output_type": "stream",
     "text": [
      "Variables qualitatives :\n",
      " ['BuildingType', 'PrimaryPropertyType', 'TaxParcelIdentificationNumber', 'Neighborhood', 'LargestPropertyUseType']\n",
      "\n",
      "Variables quantitatives :\n",
      " ['ZipCode', 'CouncilDistrictCode', 'Latitude', 'Longitude', 'NumberofBuildings', 'NumberofFloors', 'PropertyGFATotal', 'Age', 'prop_GFAParking', 'prop_Use1', 'prop_Use2', 'prop_Use3']\n",
      "\n",
      "Target :\n",
      " ['SiteEnergyUse(kBtu)']\n"
     ]
    }
   ],
   "source": [
    "objectColumns = list(X.dtypes[dfdata.dtypes == np.object].index)\n",
    "numericColumns = list(X.dtypes[dfdata.dtypes != np.object].index)\n",
    "print(\"Variables qualitatives :\\n {}\".format(objectColumns))\n",
    "print(\"\")\n",
    "print(\"Variables quantitatives :\\n {}\".format(numericColumns))\n",
    "print(\"\")\n",
    "print(\"Target :\\n {}\".format(list(y.columns)))"
   ]
  },
  {
   "cell_type": "markdown",
   "id": "847e312c",
   "metadata": {},
   "source": [
    "#### Définition du train_set et du test_set (80 / 20)"
   ]
  },
  {
   "cell_type": "code",
   "execution_count": 130,
   "id": "ff822522",
   "metadata": {},
   "outputs": [],
   "source": [
    "X_train, X_test, y_train, y_test = train_test_split(X, y_log, test_size=0.2)"
   ]
  },
  {
   "cell_type": "markdown",
   "id": "5af3d48e",
   "metadata": {},
   "source": [
    "   ## A. MinMaxScaler + OneHotEncoder"
   ]
  },
  {
   "cell_type": "markdown",
   "id": "f9ccdda5",
   "metadata": {},
   "source": [
    "#### Preprocessing"
   ]
  },
  {
   "cell_type": "code",
   "execution_count": 131,
   "id": "9c6f7d3f",
   "metadata": {},
   "outputs": [],
   "source": [
    "preprocessor = make_column_transformer((MinMaxScaler(),numericColumns),(OneHotEncoder(handle_unknown = 'ignore'),objectColumns))"
   ]
  },
  {
   "cell_type": "markdown",
   "id": "c1066c68",
   "metadata": {},
   "source": [
    "#### Modélisation avec pipeline"
   ]
  },
  {
   "cell_type": "code",
   "execution_count": 132,
   "id": "43ca12af",
   "metadata": {},
   "outputs": [],
   "source": [
    "results = []\n",
    "algos = {\n",
    "    'LinearRegression' : LinearRegression(),\n",
    "    'Ridge' : Ridge(),\n",
    "    'Lasso' : Lasso(tol=0.5),\n",
    "    'ElasticNet' : ElasticNet(),\n",
    "    'SVR' : SVR(kernel='rbf'),\n",
    "    'RandomForestRegressor' : RandomForestRegressor(),\n",
    "    'XGBRegressor' : XGBRegressor()\n",
    "}\n",
    "\n",
    "X_train, X_test, y_train_all, y_test_all = train_test_split(X, y_log, test_size=0.2, random_state=1)"
   ]
  },
  {
   "cell_type": "code",
   "execution_count": 133,
   "id": "5aa5492d",
   "metadata": {
    "scrolled": false
   },
   "outputs": [
    {
     "data": {
      "text/html": [
       "<div>\n",
       "<style scoped>\n",
       "    .dataframe tbody tr th:only-of-type {\n",
       "        vertical-align: middle;\n",
       "    }\n",
       "\n",
       "    .dataframe tbody tr th {\n",
       "        vertical-align: top;\n",
       "    }\n",
       "\n",
       "    .dataframe thead th {\n",
       "        text-align: right;\n",
       "    }\n",
       "</style>\n",
       "<table border=\"1\" class=\"dataframe\">\n",
       "  <thead>\n",
       "    <tr style=\"text-align: right;\">\n",
       "      <th></th>\n",
       "      <th>MAE</th>\n",
       "      <th>RMSE</th>\n",
       "      <th>Med Abs error</th>\n",
       "      <th>R2</th>\n",
       "      <th>Chrono (s)</th>\n",
       "    </tr>\n",
       "  </thead>\n",
       "  <tbody>\n",
       "    <tr>\n",
       "      <th>LinearRegression</th>\n",
       "      <td>7.226397</td>\n",
       "      <td>15.529769</td>\n",
       "      <td>4.272332</td>\n",
       "      <td>-125.633669</td>\n",
       "      <td>0.10</td>\n",
       "    </tr>\n",
       "    <tr>\n",
       "      <th>Ridge</th>\n",
       "      <td>0.736996</td>\n",
       "      <td>0.976979</td>\n",
       "      <td>0.543991</td>\n",
       "      <td>0.498825</td>\n",
       "      <td>0.01</td>\n",
       "    </tr>\n",
       "    <tr>\n",
       "      <th>Lasso</th>\n",
       "      <td>1.094897</td>\n",
       "      <td>1.380175</td>\n",
       "      <td>0.878949</td>\n",
       "      <td>-0.000202</td>\n",
       "      <td>0.01</td>\n",
       "    </tr>\n",
       "    <tr>\n",
       "      <th>ElasticNet</th>\n",
       "      <td>1.094897</td>\n",
       "      <td>1.380175</td>\n",
       "      <td>0.878949</td>\n",
       "      <td>-0.000202</td>\n",
       "      <td>0.01</td>\n",
       "    </tr>\n",
       "    <tr>\n",
       "      <th>SVR</th>\n",
       "      <td>0.724230</td>\n",
       "      <td>0.965373</td>\n",
       "      <td>0.553423</td>\n",
       "      <td>0.510661</td>\n",
       "      <td>0.07</td>\n",
       "    </tr>\n",
       "    <tr>\n",
       "      <th>RandomForest</th>\n",
       "      <td>0.524378</td>\n",
       "      <td>0.711974</td>\n",
       "      <td>0.387452</td>\n",
       "      <td>0.733837</td>\n",
       "      <td>1.75</td>\n",
       "    </tr>\n",
       "    <tr>\n",
       "      <th>XGBoost</th>\n",
       "      <td>0.530723</td>\n",
       "      <td>0.731116</td>\n",
       "      <td>0.381481</td>\n",
       "      <td>0.719333</td>\n",
       "      <td>0.09</td>\n",
       "    </tr>\n",
       "  </tbody>\n",
       "</table>\n",
       "</div>"
      ],
      "text/plain": [
       "                       MAE       RMSE  Med Abs error          R2  Chrono (s)\n",
       "LinearRegression  7.226397  15.529769       4.272332 -125.633669        0.10\n",
       "Ridge             0.736996   0.976979       0.543991    0.498825        0.01\n",
       "Lasso             1.094897   1.380175       0.878949   -0.000202        0.01\n",
       "ElasticNet        1.094897   1.380175       0.878949   -0.000202        0.01\n",
       "SVR               0.724230   0.965373       0.553423    0.510661        0.07\n",
       "RandomForest      0.524378   0.711974       0.387452    0.733837        1.75\n",
       "XGBoost           0.530723   0.731116       0.381481    0.719333        0.09"
      ]
     },
     "metadata": {},
     "output_type": "display_data"
    }
   ],
   "source": [
    "for algo_name, algo in algos.items():\n",
    "    start = time.time()\n",
    "    y_test = y_test_all\n",
    "    y_train = y_train_all\n",
    "    model = make_pipeline(preprocessor,algo)\n",
    "    model.fit(X_train,y_train)\n",
    "    stop = time.time()\n",
    "    chrono = round(stop - start,2)\n",
    "    y_pred = model.predict(X_test)\n",
    "    r2 = r2_score(y_test, model.predict(X_test))\n",
    "    results.append([mean_absolute_error(y_test,y_pred), np.sqrt(mean_squared_error(y_test,y_pred)), median_absolute_error(y_test,y_pred), r2, chrono])\n",
    "    \n",
    "    \n",
    "dfresults = pd.DataFrame(results, index =[\n",
    "    'LinearRegression', 'Ridge', 'Lasso', 'ElasticNet', 'SVR', 'RandomForest', 'XGBoost'], \n",
    "                         columns =['MAE', 'RMSE', 'Med Abs error', 'R2', 'Chrono (s)'])    \n",
    "display(dfresults)"
   ]
  },
  {
   "cell_type": "markdown",
   "id": "a44838be",
   "metadata": {},
   "source": [
    "#### Crossvalidation"
   ]
  },
  {
   "cell_type": "markdown",
   "id": "85bbfa6f",
   "metadata": {},
   "source": [
    "Selon les résultats de la modélisation ci-dessus, nous n'appliquerons la cross validation que sur les modèles pertinents :  \n",
    "- RandomForest  \n",
    "- XGBoost"
   ]
  },
  {
   "cell_type": "code",
   "execution_count": 20,
   "id": "ff78cd45",
   "metadata": {},
   "outputs": [
    {
     "data": {
      "text/plain": [
       "dict_keys(['bootstrap', 'ccp_alpha', 'criterion', 'max_depth', 'max_features', 'max_leaf_nodes', 'max_samples', 'min_impurity_decrease', 'min_samples_leaf', 'min_samples_split', 'min_weight_fraction_leaf', 'n_estimators', 'n_jobs', 'oob_score', 'random_state', 'verbose', 'warm_start'])"
      ]
     },
     "execution_count": 20,
     "metadata": {},
     "output_type": "execute_result"
    }
   ],
   "source": [
    "# Crossvalidation : RandomForest\n",
    "RandomForestRegressor().get_params().keys()"
   ]
  },
  {
   "cell_type": "code",
   "execution_count": 21,
   "id": "a48b3114",
   "metadata": {},
   "outputs": [
    {
     "name": "stdout",
     "output_type": "stream",
     "text": [
      "Méthode: RandomForest MinMaxScaler OneHotEncoder\n",
      "Best score :  0.7052981846698192\n",
      "Best parameters :  {'randomforestregressor__bootstrap': True, 'randomforestregressor__ccp_alpha': 0, 'randomforestregressor__n_estimators': 500}\n",
      "score de la prédiction: 0.9609732471959566\n",
      "RMSE =  0.5244769723858878\n",
      "MAE =  0.7102050359564054\n",
      "median abs err =  0.37787534115316745\n"
     ]
    }
   ],
   "source": [
    "model = make_pipeline(preprocessor,RandomForestRegressor())\n",
    "parameters = {\n",
    "    'randomforestregressor__n_estimators':[10,100,500], \n",
    "    'randomforestregressor__bootstrap':[True,False], \n",
    "    'randomforestregressor__ccp_alpha':[0,0.01,0.001]\n",
    "}\n",
    "grid = GridSearchCV(model,parameters, cv=5, n_jobs = 5)\n",
    "grid.fit(X_train, y_train)\n",
    "print('Méthode: RandomForest MinMaxScaler OneHotEncoder')\n",
    "print (\"Best score : \", grid.best_score_)\n",
    "print(\"Best parameters : \",grid.best_params_)\n",
    "y_pred = grid.predict(X_test)\n",
    "print(\"score de la prédiction:\", grid.score(X_train, y_train))\n",
    "print(\"RMSE = \",mean_absolute_error(y_test,y_pred))\n",
    "print(\"MAE = \",np.sqrt(mean_squared_error(y_test,y_pred)))\n",
    "print(\"median abs err = \",median_absolute_error(y_test,y_pred))"
   ]
  },
  {
   "cell_type": "code",
   "execution_count": 18,
   "id": "1f16e109",
   "metadata": {},
   "outputs": [
    {
     "data": {
      "text/plain": [
       "dict_keys(['objective', 'base_score', 'booster', 'callbacks', 'colsample_bylevel', 'colsample_bynode', 'colsample_bytree', 'early_stopping_rounds', 'enable_categorical', 'eval_metric', 'feature_types', 'gamma', 'gpu_id', 'grow_policy', 'importance_type', 'interaction_constraints', 'learning_rate', 'max_bin', 'max_cat_threshold', 'max_cat_to_onehot', 'max_delta_step', 'max_depth', 'max_leaves', 'min_child_weight', 'missing', 'monotone_constraints', 'n_estimators', 'n_jobs', 'num_parallel_tree', 'predictor', 'random_state', 'reg_alpha', 'reg_lambda', 'sampling_method', 'scale_pos_weight', 'subsample', 'tree_method', 'validate_parameters', 'verbosity'])"
      ]
     },
     "execution_count": 18,
     "metadata": {},
     "output_type": "execute_result"
    }
   ],
   "source": [
    "# Crossvalidation : XGBoostRegressor\n",
    "XGBRegressor().get_params().keys()"
   ]
  },
  {
   "cell_type": "code",
   "execution_count": 19,
   "id": "bf7367a6",
   "metadata": {},
   "outputs": [
    {
     "name": "stdout",
     "output_type": "stream",
     "text": [
      "Méthode: XGBoost MinMaxScaler OneHotEncoder\n",
      "Best score :  0.7184915408328059\n",
      "Best parameters :  {'xgbregressor__enable_categorical': False, 'xgbregressor__learning_rate': 0.1, 'xgbregressor__n_estimators': 500}\n",
      "score de la prédiction: 0.9538189945687061\n",
      "RMSE =  0.5107459350434466\n",
      "MAE =  0.7062454973655405\n",
      "median abs err =  0.35442547702078464\n"
     ]
    }
   ],
   "source": [
    "model = make_pipeline(preprocessor,XGBRegressor())\n",
    "parameters = {\n",
    "    'xgbregressor__n_estimators':[10,100,500], \n",
    "    'xgbregressor__enable_categorical':[True,False], \n",
    "    'xgbregressor__learning_rate':[0.1,0.3,0.5]\n",
    "}\n",
    "grid = GridSearchCV(model,parameters, cv=5, n_jobs = 5)\n",
    "grid.fit(X_train, y_train)\n",
    "print('Méthode: XGBoost MinMaxScaler OneHotEncoder')\n",
    "print (\"Best score : \", grid.best_score_)\n",
    "print(\"Best parameters : \",grid.best_params_)\n",
    "y_pred = grid.predict(X_test)\n",
    "print(\"score de la prédiction:\", grid.score(X_train, y_train))\n",
    "print(\"RMSE = \",mean_absolute_error(y_test,y_pred))\n",
    "print(\"MAE = \",np.sqrt(mean_squared_error(y_test,y_pred)))\n",
    "print(\"median abs err = \",median_absolute_error(y_test,y_pred))"
   ]
  },
  {
   "cell_type": "markdown",
   "id": "317448b4",
   "metadata": {},
   "source": [
    "## B. MinMaxScaler + TargetEncoder"
   ]
  },
  {
   "cell_type": "markdown",
   "id": "4be7cc15",
   "metadata": {},
   "source": [
    "#### Preprocessing"
   ]
  },
  {
   "cell_type": "code",
   "execution_count": 95,
   "id": "1872ef97",
   "metadata": {},
   "outputs": [],
   "source": [
    "preprocessor = make_column_transformer((MinMaxScaler(),numericColumns),(TargetEncoder(),objectColumns))"
   ]
  },
  {
   "cell_type": "markdown",
   "id": "6b1b0196",
   "metadata": {},
   "source": [
    "#### Modélisation avec pipeline"
   ]
  },
  {
   "cell_type": "code",
   "execution_count": 96,
   "id": "a1d1dadb",
   "metadata": {},
   "outputs": [],
   "source": [
    "results2 = []\n",
    "algos = {\n",
    "    'LinearRegression' : LinearRegression(),\n",
    "    'Ridge' : Ridge(),\n",
    "    'Lasso' : Lasso(tol=0.5),\n",
    "    'ElasticNet' : ElasticNet(),\n",
    "    'SVR' : SVR(kernel='rbf'),\n",
    "    'RandomForestRegressor' : RandomForestRegressor(),\n",
    "    'XGBRegressor' : XGBRegressor()\n",
    "}\n",
    "\n",
    "X_train, X_test, y_train_all, y_test_all = train_test_split(X, y_log, test_size=0.2, random_state=1)"
   ]
  },
  {
   "cell_type": "code",
   "execution_count": 97,
   "id": "7623d35a",
   "metadata": {},
   "outputs": [
    {
     "data": {
      "text/html": [
       "<div>\n",
       "<style scoped>\n",
       "    .dataframe tbody tr th:only-of-type {\n",
       "        vertical-align: middle;\n",
       "    }\n",
       "\n",
       "    .dataframe tbody tr th {\n",
       "        vertical-align: top;\n",
       "    }\n",
       "\n",
       "    .dataframe thead th {\n",
       "        text-align: right;\n",
       "    }\n",
       "</style>\n",
       "<table border=\"1\" class=\"dataframe\">\n",
       "  <thead>\n",
       "    <tr style=\"text-align: right;\">\n",
       "      <th></th>\n",
       "      <th>MAE</th>\n",
       "      <th>RMSE</th>\n",
       "      <th>Med Abs error</th>\n",
       "      <th>R2</th>\n",
       "      <th>Chrono (s)</th>\n",
       "    </tr>\n",
       "  </thead>\n",
       "  <tbody>\n",
       "    <tr>\n",
       "      <th>LinearRegression</th>\n",
       "      <td>1.055362</td>\n",
       "      <td>1.327445</td>\n",
       "      <td>0.864950</td>\n",
       "      <td>0.074764</td>\n",
       "      <td>0.03</td>\n",
       "    </tr>\n",
       "    <tr>\n",
       "      <th>Ridge</th>\n",
       "      <td>1.036170</td>\n",
       "      <td>1.305189</td>\n",
       "      <td>0.847521</td>\n",
       "      <td>0.105530</td>\n",
       "      <td>0.04</td>\n",
       "    </tr>\n",
       "    <tr>\n",
       "      <th>Lasso</th>\n",
       "      <td>1.094897</td>\n",
       "      <td>1.380175</td>\n",
       "      <td>0.878949</td>\n",
       "      <td>-0.000202</td>\n",
       "      <td>0.04</td>\n",
       "    </tr>\n",
       "    <tr>\n",
       "      <th>ElasticNet</th>\n",
       "      <td>1.061640</td>\n",
       "      <td>1.344674</td>\n",
       "      <td>0.839239</td>\n",
       "      <td>0.050592</td>\n",
       "      <td>0.04</td>\n",
       "    </tr>\n",
       "    <tr>\n",
       "      <th>SVR</th>\n",
       "      <td>0.860144</td>\n",
       "      <td>1.123791</td>\n",
       "      <td>0.661778</td>\n",
       "      <td>0.336882</td>\n",
       "      <td>0.09</td>\n",
       "    </tr>\n",
       "    <tr>\n",
       "      <th>RandomForest</th>\n",
       "      <td>1.022152</td>\n",
       "      <td>1.282630</td>\n",
       "      <td>0.839752</td>\n",
       "      <td>0.136183</td>\n",
       "      <td>0.43</td>\n",
       "    </tr>\n",
       "    <tr>\n",
       "      <th>XGBoost</th>\n",
       "      <td>1.014770</td>\n",
       "      <td>1.263892</td>\n",
       "      <td>0.875452</td>\n",
       "      <td>0.161237</td>\n",
       "      <td>0.08</td>\n",
       "    </tr>\n",
       "  </tbody>\n",
       "</table>\n",
       "</div>"
      ],
      "text/plain": [
       "                       MAE      RMSE  Med Abs error        R2  Chrono (s)\n",
       "LinearRegression  1.055362  1.327445       0.864950  0.074764        0.03\n",
       "Ridge             1.036170  1.305189       0.847521  0.105530        0.04\n",
       "Lasso             1.094897  1.380175       0.878949 -0.000202        0.04\n",
       "ElasticNet        1.061640  1.344674       0.839239  0.050592        0.04\n",
       "SVR               0.860144  1.123791       0.661778  0.336882        0.09\n",
       "RandomForest      1.022152  1.282630       0.839752  0.136183        0.43\n",
       "XGBoost           1.014770  1.263892       0.875452  0.161237        0.08"
      ]
     },
     "metadata": {},
     "output_type": "display_data"
    }
   ],
   "source": [
    "for algo_name, algo in algos.items():\n",
    "    start = time.time()\n",
    "    y_test = y_test_all\n",
    "    y_train = y_train_all\n",
    "    model = make_pipeline(preprocessor,algo)\n",
    "    model.fit(X_train,y_train)\n",
    "    stop = time.time()\n",
    "    chrono = round(stop - start,2)\n",
    "    y_pred = model.predict(X_test)\n",
    "    r2 = r2_score(y_test, model.predict(X_test))\n",
    "    results2.append([mean_absolute_error(y_test,y_pred), np.sqrt(mean_squared_error(y_test,y_pred)), median_absolute_error(y_test,y_pred), r2, chrono])\n",
    "    \n",
    "    \n",
    "dfresults2 = pd.DataFrame(results2, index =[\n",
    "    'LinearRegression', 'Ridge', 'Lasso', 'ElasticNet', 'SVR', 'RandomForest', 'XGBoost'], \n",
    "                         columns =['MAE', 'RMSE', 'Med Abs error', 'R2', 'Chrono (s)'])    \n",
    "display(dfresults2)"
   ]
  },
  {
   "cell_type": "markdown",
   "id": "4aba2da9",
   "metadata": {},
   "source": [
    "#### Crossvalidation"
   ]
  },
  {
   "cell_type": "markdown",
   "id": "0cf42242",
   "metadata": {},
   "source": [
    "Selon les résultats de la modélisation ci-dessus, nous n'appliquerons la cross validation que sur les modèles pertinents :  \n",
    "- RandomForest  \n",
    "- XGBoost"
   ]
  },
  {
   "cell_type": "code",
   "execution_count": 98,
   "id": "53f8f00b",
   "metadata": {},
   "outputs": [
    {
     "data": {
      "text/plain": [
       "dict_keys(['bootstrap', 'ccp_alpha', 'criterion', 'max_depth', 'max_features', 'max_leaf_nodes', 'max_samples', 'min_impurity_decrease', 'min_samples_leaf', 'min_samples_split', 'min_weight_fraction_leaf', 'n_estimators', 'n_jobs', 'oob_score', 'random_state', 'verbose', 'warm_start'])"
      ]
     },
     "execution_count": 98,
     "metadata": {},
     "output_type": "execute_result"
    }
   ],
   "source": [
    "# Crossvalidation : RandomForest\n",
    "RandomForestRegressor().get_params().keys()"
   ]
  },
  {
   "cell_type": "code",
   "execution_count": 99,
   "id": "0274b705",
   "metadata": {},
   "outputs": [
    {
     "name": "stdout",
     "output_type": "stream",
     "text": [
      "Méthode: RandomForest MinMaxScaler TargetEncoder\n",
      "Best score :  0.0797372806678079\n",
      "Best parameters :  {'randomforestregressor__bootstrap': True, 'randomforestregressor__ccp_alpha': 0, 'randomforestregressor__n_estimators': 10}\n",
      "score de la prédiction: 0.9926545294846862\n",
      "RMSE =  1.0528644350769103\n",
      "MAE =  1.3257748931351971\n",
      "median abs err =  0.8758913468848419\n"
     ]
    }
   ],
   "source": [
    "model = make_pipeline(preprocessor,RandomForestRegressor())\n",
    "parameters = {\n",
    "    'randomforestregressor__n_estimators':[10,100,500], \n",
    "    'randomforestregressor__bootstrap':[True,False], \n",
    "    'randomforestregressor__ccp_alpha':[0,0.01,0.001]\n",
    "}\n",
    "grid = GridSearchCV(model,parameters, cv=5, n_jobs = 5)\n",
    "grid.fit(X_train, y_train)\n",
    "print('Méthode: RandomForest MinMaxScaler TargetEncoder')\n",
    "print (\"Best score : \", grid.best_score_)\n",
    "print(\"Best parameters : \",grid.best_params_)\n",
    "y_pred = grid.predict(X_test)\n",
    "print(\"score de la prédiction:\", grid.score(X_train, y_train))\n",
    "print(\"RMSE = \",mean_absolute_error(y_test,y_pred))\n",
    "print(\"MAE = \",np.sqrt(mean_squared_error(y_test,y_pred)))\n",
    "print(\"median abs err = \",median_absolute_error(y_test,y_pred))"
   ]
  },
  {
   "cell_type": "code",
   "execution_count": 100,
   "id": "9926248d",
   "metadata": {},
   "outputs": [
    {
     "data": {
      "text/plain": [
       "dict_keys(['objective', 'base_score', 'booster', 'callbacks', 'colsample_bylevel', 'colsample_bynode', 'colsample_bytree', 'early_stopping_rounds', 'enable_categorical', 'eval_metric', 'feature_types', 'gamma', 'gpu_id', 'grow_policy', 'importance_type', 'interaction_constraints', 'learning_rate', 'max_bin', 'max_cat_threshold', 'max_cat_to_onehot', 'max_delta_step', 'max_depth', 'max_leaves', 'min_child_weight', 'missing', 'monotone_constraints', 'n_estimators', 'n_jobs', 'num_parallel_tree', 'predictor', 'random_state', 'reg_alpha', 'reg_lambda', 'sampling_method', 'scale_pos_weight', 'subsample', 'tree_method', 'validate_parameters', 'verbosity'])"
      ]
     },
     "execution_count": 100,
     "metadata": {},
     "output_type": "execute_result"
    }
   ],
   "source": [
    "# Crossvalidation : LXGBoostRegressor\n",
    "XGBRegressor().get_params().keys()"
   ]
  },
  {
   "cell_type": "code",
   "execution_count": 101,
   "id": "bfd3c144",
   "metadata": {},
   "outputs": [
    {
     "name": "stdout",
     "output_type": "stream",
     "text": [
      "Méthode: XGBoost MinMaxScaler TargetEncoder\n",
      "Best score :  0.06628651854735676\n",
      "Best parameters :  {'xgbregressor__enable_categorical': False, 'xgbregressor__learning_rate': 0.1, 'xgbregressor__n_estimators': 500}\n",
      "score de la prédiction: 0.9999786462204694\n",
      "RMSE =  1.0219740391490273\n",
      "MAE =  1.2844464523395946\n",
      "median abs err =  0.8429515289882765\n"
     ]
    }
   ],
   "source": [
    "model = make_pipeline(preprocessor,XGBRegressor())\n",
    "parameters = {\n",
    "    'xgbregressor__n_estimators':[10,100,500], \n",
    "    'xgbregressor__enable_categorical':[True,False], \n",
    "    'xgbregressor__learning_rate':[0.1,0.3,0.5]\n",
    "}\n",
    "grid = GridSearchCV(model,parameters, cv=5, n_jobs = 5)\n",
    "grid.fit(X_train, y_train)\n",
    "print('Méthode: XGBoost MinMaxScaler TargetEncoder')\n",
    "print (\"Best score : \", grid.best_score_)\n",
    "print(\"Best parameters : \",grid.best_params_)\n",
    "y_pred = grid.predict(X_test)\n",
    "print(\"score de la prédiction:\", grid.score(X_train, y_train))\n",
    "print(\"RMSE = \",mean_absolute_error(y_test,y_pred))\n",
    "print(\"MAE = \",np.sqrt(mean_squared_error(y_test,y_pred)))\n",
    "print(\"median abs err = \",median_absolute_error(y_test,y_pred))"
   ]
  },
  {
   "cell_type": "markdown",
   "id": "ef637c40",
   "metadata": {},
   "source": [
    "# 2. CONSOMMATION BRUTE - AVEC ENERGYSTARSCORE"
   ]
  },
  {
   "cell_type": "markdown",
   "id": "25b4c70c",
   "metadata": {},
   "source": [
    "#### Imputation de la colonne ENERGYSTARScore pour les valeurs nulles"
   ]
  },
  {
   "cell_type": "code",
   "execution_count": 146,
   "id": "4d8d64e7",
   "metadata": {},
   "outputs": [],
   "source": [
    "# Remplissage avec médiane\n",
    "dfdata['ENERGYSTARScore'] = dfdata['ENERGYSTARScore'].fillna(dfdata['ENERGYSTARScore'].median())"
   ]
  },
  {
   "cell_type": "code",
   "execution_count": 147,
   "id": "5ee33f8c",
   "metadata": {},
   "outputs": [],
   "source": [
    "# Nous redéfinissons la dataframe initiale pour la modélisation\n",
    "y_col = target\n",
    "y = dfdata[y_col]\n",
    "logtransformer = FunctionTransformer(np.log, inverse_func = np.exp, check_inverse = True)\n",
    "y_log = logtransformer.transform(y)\n",
    "X = dfdata.drop(y, axis = 1)"
   ]
  },
  {
   "cell_type": "markdown",
   "id": "0a313fb5",
   "metadata": {},
   "source": [
    "#### Définition des groupes de colonnes : quantitatives et qualitatives "
   ]
  },
  {
   "cell_type": "code",
   "execution_count": 148,
   "id": "30a13f67",
   "metadata": {},
   "outputs": [
    {
     "name": "stdout",
     "output_type": "stream",
     "text": [
      "Variables qualitatives :\n",
      " ['BuildingType', 'PrimaryPropertyType', 'TaxParcelIdentificationNumber', 'Neighborhood', 'LargestPropertyUseType']\n",
      "\n",
      "Variables quantitatives :\n",
      " ['ZipCode', 'CouncilDistrictCode', 'Latitude', 'Longitude', 'NumberofBuildings', 'NumberofFloors', 'PropertyGFATotal', 'ENERGYSTARScore', 'Age', 'prop_GFAParking', 'prop_Use1', 'prop_Use2', 'prop_Use3']\n",
      "\n",
      "Target :\n",
      " ['SiteEnergyUse(kBtu)']\n"
     ]
    }
   ],
   "source": [
    "objectColumns = list(X.dtypes[dfdata.dtypes == np.object].index)\n",
    "numericColumns = list(X.dtypes[dfdata.dtypes != np.object].index)\n",
    "print(\"Variables qualitatives :\\n {}\".format(objectColumns))\n",
    "print(\"\")\n",
    "print(\"Variables quantitatives :\\n {}\".format(numericColumns))\n",
    "print(\"\")\n",
    "print(\"Target :\\n {}\".format(list(y.columns)))"
   ]
  },
  {
   "cell_type": "markdown",
   "id": "8fe8480e",
   "metadata": {},
   "source": [
    "#### Définition du train_set et du test_set (80 / 20)"
   ]
  },
  {
   "cell_type": "code",
   "execution_count": 149,
   "id": "9a538523",
   "metadata": {},
   "outputs": [],
   "source": [
    "X_train, X_test, y_train, y_test = train_test_split(X, y_log, test_size=0.2)"
   ]
  },
  {
   "cell_type": "markdown",
   "id": "5eb1d002",
   "metadata": {},
   "source": [
    "   ## A. MinMaxScaler + OneHotEncoder"
   ]
  },
  {
   "cell_type": "markdown",
   "id": "ed837837",
   "metadata": {},
   "source": [
    "#### Preprocessing"
   ]
  },
  {
   "cell_type": "code",
   "execution_count": 150,
   "id": "dd1fdf84",
   "metadata": {},
   "outputs": [],
   "source": [
    "preprocessor = make_column_transformer((MinMaxScaler(),numericColumns),(OneHotEncoder(handle_unknown = 'ignore'),objectColumns))"
   ]
  },
  {
   "cell_type": "markdown",
   "id": "c1b278fc",
   "metadata": {},
   "source": [
    "#### Modélisation avec pipeline"
   ]
  },
  {
   "cell_type": "code",
   "execution_count": 151,
   "id": "6418846f",
   "metadata": {},
   "outputs": [],
   "source": [
    "results3 = []\n",
    "algos = {\n",
    "    'LinearRegression' : LinearRegression(),\n",
    "    'Ridge' : Ridge(),\n",
    "    'Lasso' : Lasso(tol=0.5),\n",
    "    'ElasticNet' : ElasticNet(),\n",
    "    'SVR' : SVR(kernel='rbf'),\n",
    "    'RandomForestRegressor' : RandomForestRegressor(),\n",
    "    'XGBRegressor' : XGBRegressor()\n",
    "}\n",
    "\n",
    "X_train, X_test, y_train_all, y_test_all = train_test_split(X, y_log, test_size=0.2, random_state=1)"
   ]
  },
  {
   "cell_type": "code",
   "execution_count": 152,
   "id": "5ab53031",
   "metadata": {},
   "outputs": [
    {
     "data": {
      "text/html": [
       "<div>\n",
       "<style scoped>\n",
       "    .dataframe tbody tr th:only-of-type {\n",
       "        vertical-align: middle;\n",
       "    }\n",
       "\n",
       "    .dataframe tbody tr th {\n",
       "        vertical-align: top;\n",
       "    }\n",
       "\n",
       "    .dataframe thead th {\n",
       "        text-align: right;\n",
       "    }\n",
       "</style>\n",
       "<table border=\"1\" class=\"dataframe\">\n",
       "  <thead>\n",
       "    <tr style=\"text-align: right;\">\n",
       "      <th></th>\n",
       "      <th>MAE</th>\n",
       "      <th>RMSE</th>\n",
       "      <th>Med Abs error</th>\n",
       "      <th>R2</th>\n",
       "      <th>Chrono (s)</th>\n",
       "    </tr>\n",
       "  </thead>\n",
       "  <tbody>\n",
       "    <tr>\n",
       "      <th>LinearRegression</th>\n",
       "      <td>10.361749</td>\n",
       "      <td>24.266686</td>\n",
       "      <td>5.007654</td>\n",
       "      <td>-308.200494</td>\n",
       "      <td>0.10</td>\n",
       "    </tr>\n",
       "    <tr>\n",
       "      <th>Ridge</th>\n",
       "      <td>0.703110</td>\n",
       "      <td>0.942276</td>\n",
       "      <td>0.532376</td>\n",
       "      <td>0.533797</td>\n",
       "      <td>0.01</td>\n",
       "    </tr>\n",
       "    <tr>\n",
       "      <th>Lasso</th>\n",
       "      <td>1.094897</td>\n",
       "      <td>1.380175</td>\n",
       "      <td>0.878949</td>\n",
       "      <td>-0.000202</td>\n",
       "      <td>0.01</td>\n",
       "    </tr>\n",
       "    <tr>\n",
       "      <th>ElasticNet</th>\n",
       "      <td>1.094897</td>\n",
       "      <td>1.380175</td>\n",
       "      <td>0.878949</td>\n",
       "      <td>-0.000202</td>\n",
       "      <td>0.01</td>\n",
       "    </tr>\n",
       "    <tr>\n",
       "      <th>SVR</th>\n",
       "      <td>0.689995</td>\n",
       "      <td>0.936942</td>\n",
       "      <td>0.511880</td>\n",
       "      <td>0.539060</td>\n",
       "      <td>0.07</td>\n",
       "    </tr>\n",
       "    <tr>\n",
       "      <th>RandomForest</th>\n",
       "      <td>0.471391</td>\n",
       "      <td>0.661777</td>\n",
       "      <td>0.319227</td>\n",
       "      <td>0.770045</td>\n",
       "      <td>1.81</td>\n",
       "    </tr>\n",
       "    <tr>\n",
       "      <th>XGBoost</th>\n",
       "      <td>0.473190</td>\n",
       "      <td>0.671356</td>\n",
       "      <td>0.334653</td>\n",
       "      <td>0.763340</td>\n",
       "      <td>0.09</td>\n",
       "    </tr>\n",
       "  </tbody>\n",
       "</table>\n",
       "</div>"
      ],
      "text/plain": [
       "                        MAE       RMSE  Med Abs error          R2  Chrono (s)\n",
       "LinearRegression  10.361749  24.266686       5.007654 -308.200494        0.10\n",
       "Ridge              0.703110   0.942276       0.532376    0.533797        0.01\n",
       "Lasso              1.094897   1.380175       0.878949   -0.000202        0.01\n",
       "ElasticNet         1.094897   1.380175       0.878949   -0.000202        0.01\n",
       "SVR                0.689995   0.936942       0.511880    0.539060        0.07\n",
       "RandomForest       0.471391   0.661777       0.319227    0.770045        1.81\n",
       "XGBoost            0.473190   0.671356       0.334653    0.763340        0.09"
      ]
     },
     "metadata": {},
     "output_type": "display_data"
    }
   ],
   "source": [
    "for algo_name, algo in algos.items():\n",
    "    start = time.time()\n",
    "    y_test = y_test_all\n",
    "    y_train = y_train_all\n",
    "    model = make_pipeline(preprocessor,algo)\n",
    "    model.fit(X_train,y_train)\n",
    "    stop = time.time()\n",
    "    chrono = round(stop - start,2)\n",
    "    y_pred = model.predict(X_test)\n",
    "    r2 = r2_score(y_test, model.predict(X_test))\n",
    "    results3.append([mean_absolute_error(y_test,y_pred), np.sqrt(mean_squared_error(y_test,y_pred)), median_absolute_error(y_test,y_pred), r2, chrono])\n",
    "    \n",
    "    \n",
    "dfresults3 = pd.DataFrame(results3, index =[\n",
    "    'LinearRegression', 'Ridge', 'Lasso', 'ElasticNet', 'SVR', 'RandomForest', 'XGBoost'], \n",
    "                         columns =['MAE', 'RMSE', 'Med Abs error', 'R2', 'Chrono (s)'])    \n",
    "display(dfresults3)"
   ]
  },
  {
   "cell_type": "markdown",
   "id": "d052dff9",
   "metadata": {},
   "source": [
    "#### Crossvalidation"
   ]
  },
  {
   "cell_type": "markdown",
   "id": "5717ee7d",
   "metadata": {},
   "source": [
    "Selon les résultats de la modélisation ci-dessus, nous n'appliquerons la cross validation que sur les modèles pertinents :  \n",
    "- RandomForest  \n",
    "- XGBoost"
   ]
  },
  {
   "cell_type": "code",
   "execution_count": 109,
   "id": "de2d5600",
   "metadata": {},
   "outputs": [
    {
     "data": {
      "text/plain": [
       "dict_keys(['bootstrap', 'ccp_alpha', 'criterion', 'max_depth', 'max_features', 'max_leaf_nodes', 'max_samples', 'min_impurity_decrease', 'min_samples_leaf', 'min_samples_split', 'min_weight_fraction_leaf', 'n_estimators', 'n_jobs', 'oob_score', 'random_state', 'verbose', 'warm_start'])"
      ]
     },
     "execution_count": 109,
     "metadata": {},
     "output_type": "execute_result"
    }
   ],
   "source": [
    "# Crossvalidation : RandomForest\n",
    "RandomForestRegressor().get_params().keys()"
   ]
  },
  {
   "cell_type": "code",
   "execution_count": 110,
   "id": "8ac36046",
   "metadata": {},
   "outputs": [
    {
     "name": "stdout",
     "output_type": "stream",
     "text": [
      "Méthode: RandomForest MinMaxScaler OneHotEncoder\n",
      "Best score :  0.7372808221923347\n",
      "Best parameters :  {'randomforestregressor__bootstrap': True, 'randomforestregressor__ccp_alpha': 0, 'randomforestregressor__n_estimators': 500}\n",
      "score de la prédiction: 0.9657391725068708\n",
      "RMSE =  0.4671961325236197\n",
      "MAE =  0.6601958570641309\n",
      "median abs err =  0.3236487283467735\n"
     ]
    }
   ],
   "source": [
    "model = make_pipeline(preprocessor,RandomForestRegressor())\n",
    "parameters = {\n",
    "    'randomforestregressor__n_estimators':[10,100,500], \n",
    "    'randomforestregressor__bootstrap':[True,False], \n",
    "    'randomforestregressor__ccp_alpha':[0,0.01,0.001]\n",
    "}\n",
    "grid = GridSearchCV(model,parameters, cv=5, n_jobs = 5)\n",
    "grid.fit(X_train, y_train)\n",
    "print('Méthode: RandomForest MinMaxScaler OneHotEncoder')\n",
    "print (\"Best score : \", grid.best_score_)\n",
    "print(\"Best parameters : \",grid.best_params_)\n",
    "y_pred = grid.predict(X_test)\n",
    "print(\"score de la prédiction:\", grid.score(X_train, y_train))\n",
    "print(\"RMSE = \",mean_absolute_error(y_test,y_pred))\n",
    "print(\"MAE = \",np.sqrt(mean_squared_error(y_test,y_pred)))\n",
    "print(\"median abs err = \",median_absolute_error(y_test,y_pred))"
   ]
  },
  {
   "cell_type": "code",
   "execution_count": 111,
   "id": "0b808867",
   "metadata": {},
   "outputs": [
    {
     "data": {
      "text/plain": [
       "dict_keys(['objective', 'base_score', 'booster', 'callbacks', 'colsample_bylevel', 'colsample_bynode', 'colsample_bytree', 'early_stopping_rounds', 'enable_categorical', 'eval_metric', 'feature_types', 'gamma', 'gpu_id', 'grow_policy', 'importance_type', 'interaction_constraints', 'learning_rate', 'max_bin', 'max_cat_threshold', 'max_cat_to_onehot', 'max_delta_step', 'max_depth', 'max_leaves', 'min_child_weight', 'missing', 'monotone_constraints', 'n_estimators', 'n_jobs', 'num_parallel_tree', 'predictor', 'random_state', 'reg_alpha', 'reg_lambda', 'sampling_method', 'scale_pos_weight', 'subsample', 'tree_method', 'validate_parameters', 'verbosity'])"
      ]
     },
     "execution_count": 111,
     "metadata": {},
     "output_type": "execute_result"
    }
   ],
   "source": [
    "# Crossvalidation : LXGBoostRegressor\n",
    "XGBRegressor().get_params().keys()"
   ]
  },
  {
   "cell_type": "code",
   "execution_count": 112,
   "id": "ee81bfd2",
   "metadata": {},
   "outputs": [
    {
     "name": "stdout",
     "output_type": "stream",
     "text": [
      "Méthode: XGBoost MinMaxScaler OneHotEncoder\n",
      "Best score :  0.7526461343922524\n",
      "Best parameters :  {'xgbregressor__enable_categorical': False, 'xgbregressor__learning_rate': 0.1, 'xgbregressor__n_estimators': 100}\n",
      "score de la prédiction: 0.9187154172717794\n",
      "RMSE =  0.4610262321522033\n",
      "MAE =  0.6630354692746707\n",
      "median abs err =  0.34035545068486783\n"
     ]
    }
   ],
   "source": [
    "model = make_pipeline(preprocessor,XGBRegressor())\n",
    "parameters = {\n",
    "    'xgbregressor__n_estimators':[10,100,500], \n",
    "    'xgbregressor__enable_categorical':[True,False], \n",
    "    'xgbregressor__learning_rate':[0.1,0.3,0.5]\n",
    "}\n",
    "grid = GridSearchCV(model,parameters, cv=5, n_jobs = 5)\n",
    "grid.fit(X_train, y_train)\n",
    "print('Méthode: XGBoost MinMaxScaler OneHotEncoder')\n",
    "print (\"Best score : \", grid.best_score_)\n",
    "print(\"Best parameters : \",grid.best_params_)\n",
    "y_pred = grid.predict(X_test)\n",
    "print(\"score de la prédiction:\", grid.score(X_train, y_train))\n",
    "print(\"RMSE = \",mean_absolute_error(y_test,y_pred))\n",
    "print(\"MAE = \",np.sqrt(mean_squared_error(y_test,y_pred)))\n",
    "print(\"median abs err = \",median_absolute_error(y_test,y_pred))"
   ]
  },
  {
   "cell_type": "markdown",
   "id": "470d1160",
   "metadata": {},
   "source": [
    "#### Feature importance : XGBoost"
   ]
  },
  {
   "cell_type": "code",
   "execution_count": 153,
   "id": "e024824f",
   "metadata": {},
   "outputs": [
    {
     "data": {
      "text/plain": [
       "XGBRegressor(base_score=None, booster=None, callbacks=None,\n",
       "             colsample_bylevel=None, colsample_bynode=None,\n",
       "             colsample_bytree=None, early_stopping_rounds=None,\n",
       "             enable_categorical=False, eval_metric=None, feature_types=None,\n",
       "             gamma=None, gpu_id=None, grow_policy=None, importance_type=None,\n",
       "             interaction_constraints=None, learning_rate=None, max_bin=None,\n",
       "             max_cat_threshold=None, max_cat_to_onehot=None,\n",
       "             max_delta_step=None, max_depth=None, max_leaves=None,\n",
       "             min_child_weight=None, missing=nan, monotone_constraints=None,\n",
       "             n_estimators=100, n_jobs=None, num_parallel_tree=None,\n",
       "             predictor=None, random_state=None, ...)"
      ]
     },
     "execution_count": 153,
     "metadata": {},
     "output_type": "execute_result"
    }
   ],
   "source": [
    "model = XGBRegressor()\n",
    "X_ = pd.get_dummies(X, drop_first=True)\n",
    "col_names = X_.columns\n",
    "X_ = pd.DataFrame(MinMaxScaler().fit_transform(X_), columns = col_names)\n",
    "model.fit(X_,y_log)"
   ]
  },
  {
   "cell_type": "code",
   "execution_count": 154,
   "id": "03e1e944",
   "metadata": {},
   "outputs": [
    {
     "data": {
      "image/png": "[encoded data removed]",
      "text/plain": [
       "<Figure size 800x950 with 1 Axes>"
      ]
     },
     "metadata": {},
     "output_type": "display_data"
    }
   ],
   "source": [
    "shap_values = shap.TreeExplainer(model).shap_values(X_)\n",
    "shap.summary_plot(shap_values, X_, plot_type=\"bar\")"
   ]
  },
  {
   "cell_type": "code",
   "execution_count": 155,
   "id": "a4482076",
   "metadata": {},
   "outputs": [
    {
     "data": {
      "image/png": "[encoded data removed]",
      "text/plain": [
       "<Figure size 800x950 with 2 Axes>"
      ]
     },
     "metadata": {},
     "output_type": "display_data"
    }
   ],
   "source": [
    "shap.summary_plot(shap_values, X_)"
   ]
  },
  {
   "cell_type": "markdown",
   "id": "0b32fc99",
   "metadata": {},
   "source": [
    "## B. MinMaxScaler + TargetEncoder"
   ]
  },
  {
   "cell_type": "markdown",
   "id": "a9aaa8ba",
   "metadata": {},
   "source": [
    "#### Preprocessing"
   ]
  },
  {
   "cell_type": "code",
   "execution_count": 113,
   "id": "8141f4c9",
   "metadata": {},
   "outputs": [],
   "source": [
    "preprocessor = make_column_transformer((MinMaxScaler(),numericColumns),(TargetEncoder(),objectColumns))"
   ]
  },
  {
   "cell_type": "markdown",
   "id": "b4657f83",
   "metadata": {},
   "source": [
    "#### Modélisation avec pipeline"
   ]
  },
  {
   "cell_type": "code",
   "execution_count": 114,
   "id": "e145c2bb",
   "metadata": {},
   "outputs": [],
   "source": [
    "results4 = []\n",
    "algos = {\n",
    "    'LinearRegression' : LinearRegression(),\n",
    "    'Ridge' : Ridge(),\n",
    "    'Lasso' : Lasso(tol=0.5),\n",
    "    'ElasticNet' : ElasticNet(),\n",
    "    'SVR' : SVR(kernel='rbf'),\n",
    "    'RandomForestRegressor' : RandomForestRegressor(),\n",
    "    'XGBRegressor' : XGBRegressor()\n",
    "}\n",
    "\n",
    "X_train, X_test, y_train_all, y_test_all = train_test_split(X, y_log, test_size=0.2, random_state=1)"
   ]
  },
  {
   "cell_type": "code",
   "execution_count": 115,
   "id": "26f56187",
   "metadata": {},
   "outputs": [
    {
     "data": {
      "text/html": [
       "<div>\n",
       "<style scoped>\n",
       "    .dataframe tbody tr th:only-of-type {\n",
       "        vertical-align: middle;\n",
       "    }\n",
       "\n",
       "    .dataframe tbody tr th {\n",
       "        vertical-align: top;\n",
       "    }\n",
       "\n",
       "    .dataframe thead th {\n",
       "        text-align: right;\n",
       "    }\n",
       "</style>\n",
       "<table border=\"1\" class=\"dataframe\">\n",
       "  <thead>\n",
       "    <tr style=\"text-align: right;\">\n",
       "      <th></th>\n",
       "      <th>MAE</th>\n",
       "      <th>RMSE</th>\n",
       "      <th>Med Abs error</th>\n",
       "      <th>R2</th>\n",
       "      <th>Chrono (s)</th>\n",
       "    </tr>\n",
       "  </thead>\n",
       "  <tbody>\n",
       "    <tr>\n",
       "      <th>LinearRegression</th>\n",
       "      <td>1.050278</td>\n",
       "      <td>1.321311</td>\n",
       "      <td>0.854698</td>\n",
       "      <td>0.083295</td>\n",
       "      <td>0.03</td>\n",
       "    </tr>\n",
       "    <tr>\n",
       "      <th>Ridge</th>\n",
       "      <td>1.028188</td>\n",
       "      <td>1.295923</td>\n",
       "      <td>0.829971</td>\n",
       "      <td>0.118184</td>\n",
       "      <td>0.04</td>\n",
       "    </tr>\n",
       "    <tr>\n",
       "      <th>Lasso</th>\n",
       "      <td>1.094897</td>\n",
       "      <td>1.380175</td>\n",
       "      <td>0.878949</td>\n",
       "      <td>-0.000202</td>\n",
       "      <td>0.03</td>\n",
       "    </tr>\n",
       "    <tr>\n",
       "      <th>ElasticNet</th>\n",
       "      <td>1.061640</td>\n",
       "      <td>1.344674</td>\n",
       "      <td>0.839239</td>\n",
       "      <td>0.050592</td>\n",
       "      <td>0.03</td>\n",
       "    </tr>\n",
       "    <tr>\n",
       "      <th>SVR</th>\n",
       "      <td>0.851065</td>\n",
       "      <td>1.115789</td>\n",
       "      <td>0.661069</td>\n",
       "      <td>0.346293</td>\n",
       "      <td>0.07</td>\n",
       "    </tr>\n",
       "    <tr>\n",
       "      <th>RandomForest</th>\n",
       "      <td>1.044381</td>\n",
       "      <td>1.310889</td>\n",
       "      <td>0.856293</td>\n",
       "      <td>0.097699</td>\n",
       "      <td>0.45</td>\n",
       "    </tr>\n",
       "    <tr>\n",
       "      <th>XGBoost</th>\n",
       "      <td>1.027163</td>\n",
       "      <td>1.284907</td>\n",
       "      <td>0.862722</td>\n",
       "      <td>0.133113</td>\n",
       "      <td>0.08</td>\n",
       "    </tr>\n",
       "  </tbody>\n",
       "</table>\n",
       "</div>"
      ],
      "text/plain": [
       "                       MAE      RMSE  Med Abs error        R2  Chrono (s)\n",
       "LinearRegression  1.050278  1.321311       0.854698  0.083295        0.03\n",
       "Ridge             1.028188  1.295923       0.829971  0.118184        0.04\n",
       "Lasso             1.094897  1.380175       0.878949 -0.000202        0.03\n",
       "ElasticNet        1.061640  1.344674       0.839239  0.050592        0.03\n",
       "SVR               0.851065  1.115789       0.661069  0.346293        0.07\n",
       "RandomForest      1.044381  1.310889       0.856293  0.097699        0.45\n",
       "XGBoost           1.027163  1.284907       0.862722  0.133113        0.08"
      ]
     },
     "metadata": {},
     "output_type": "display_data"
    }
   ],
   "source": [
    "for algo_name, algo in algos.items():\n",
    "    start = time.time()\n",
    "    y_test = y_test_all\n",
    "    y_train = y_train_all\n",
    "    model = make_pipeline(preprocessor,algo)\n",
    "    model.fit(X_train,y_train)\n",
    "    stop = time.time()\n",
    "    chrono = round(stop - start,2)\n",
    "    y_pred = model.predict(X_test)\n",
    "    r2 = r2_score(y_test, model.predict(X_test))\n",
    "    results4.append([mean_absolute_error(y_test,y_pred), np.sqrt(mean_squared_error(y_test,y_pred)), median_absolute_error(y_test,y_pred), r2, chrono])\n",
    "    \n",
    "    \n",
    "dfresults4 = pd.DataFrame(results4, index =[\n",
    "    'LinearRegression', 'Ridge', 'Lasso', 'ElasticNet', 'SVR', 'RandomForest', 'XGBoost'], \n",
    "                         columns =['MAE', 'RMSE', 'Med Abs error', 'R2', 'Chrono (s)'])    \n",
    "display(dfresults4)"
   ]
  },
  {
   "cell_type": "markdown",
   "id": "791b61ed",
   "metadata": {},
   "source": [
    "#### Crossvalidation"
   ]
  },
  {
   "cell_type": "markdown",
   "id": "57a8fa1b",
   "metadata": {},
   "source": [
    "Selon les résultats de la modélisation ci-dessus, nous n'appliquerons la cross validation que sur les modèles pertinents :  \n",
    "- RandomForest  \n",
    "- XGBoost"
   ]
  },
  {
   "cell_type": "code",
   "execution_count": 116,
   "id": "eb077abf",
   "metadata": {},
   "outputs": [
    {
     "data": {
      "text/plain": [
       "dict_keys(['bootstrap', 'ccp_alpha', 'criterion', 'max_depth', 'max_features', 'max_leaf_nodes', 'max_samples', 'min_impurity_decrease', 'min_samples_leaf', 'min_samples_split', 'min_weight_fraction_leaf', 'n_estimators', 'n_jobs', 'oob_score', 'random_state', 'verbose', 'warm_start'])"
      ]
     },
     "execution_count": 116,
     "metadata": {},
     "output_type": "execute_result"
    }
   ],
   "source": [
    "# Crossvalidation : RandomForest\n",
    "RandomForestRegressor().get_params().keys()"
   ]
  },
  {
   "cell_type": "code",
   "execution_count": 117,
   "id": "699f2d5c",
   "metadata": {},
   "outputs": [
    {
     "name": "stdout",
     "output_type": "stream",
     "text": [
      "Méthode: RandomForest MinMaxScaler TargetEncoder\n",
      "Best score :  0.08470218879284927\n",
      "Best parameters :  {'randomforestregressor__bootstrap': True, 'randomforestregressor__ccp_alpha': 0, 'randomforestregressor__n_estimators': 10}\n",
      "score de la prédiction: 0.9942783399846965\n",
      "RMSE =  0.999728787002375\n",
      "MAE =  1.2566480204182537\n",
      "median abs err =  0.8207932948399055\n"
     ]
    }
   ],
   "source": [
    "model = make_pipeline(preprocessor,RandomForestRegressor())\n",
    "parameters = {\n",
    "    'randomforestregressor__n_estimators':[10,100,500], \n",
    "    'randomforestregressor__bootstrap':[True,False], \n",
    "    'randomforestregressor__ccp_alpha':[0,0.01,0.001]\n",
    "}\n",
    "grid = GridSearchCV(model,parameters, cv=5, n_jobs = 5)\n",
    "grid.fit(X_train, y_train)\n",
    "print('Méthode: RandomForest MinMaxScaler TargetEncoder')\n",
    "print (\"Best score : \", grid.best_score_)\n",
    "print(\"Best parameters : \",grid.best_params_)\n",
    "y_pred = grid.predict(X_test)\n",
    "print(\"score de la prédiction:\", grid.score(X_train, y_train))\n",
    "print(\"RMSE = \",mean_absolute_error(y_test,y_pred))\n",
    "print(\"MAE = \",np.sqrt(mean_squared_error(y_test,y_pred)))\n",
    "print(\"median abs err = \",median_absolute_error(y_test,y_pred))"
   ]
  },
  {
   "cell_type": "code",
   "execution_count": 118,
   "id": "8c0a68c4",
   "metadata": {},
   "outputs": [
    {
     "data": {
      "text/plain": [
       "dict_keys(['objective', 'base_score', 'booster', 'callbacks', 'colsample_bylevel', 'colsample_bynode', 'colsample_bytree', 'early_stopping_rounds', 'enable_categorical', 'eval_metric', 'feature_types', 'gamma', 'gpu_id', 'grow_policy', 'importance_type', 'interaction_constraints', 'learning_rate', 'max_bin', 'max_cat_threshold', 'max_cat_to_onehot', 'max_delta_step', 'max_depth', 'max_leaves', 'min_child_weight', 'missing', 'monotone_constraints', 'n_estimators', 'n_jobs', 'num_parallel_tree', 'predictor', 'random_state', 'reg_alpha', 'reg_lambda', 'sampling_method', 'scale_pos_weight', 'subsample', 'tree_method', 'validate_parameters', 'verbosity'])"
      ]
     },
     "execution_count": 118,
     "metadata": {},
     "output_type": "execute_result"
    }
   ],
   "source": [
    "# Crossvalidation : LXGBoostRegressor\n",
    "XGBRegressor().get_params().keys()"
   ]
  },
  {
   "cell_type": "code",
   "execution_count": 119,
   "id": "3aecf37a",
   "metadata": {},
   "outputs": [
    {
     "name": "stdout",
     "output_type": "stream",
     "text": [
      "Méthode: XGBoost MinMaxScaler TargetEncoder\n",
      "Best score :  0.08433135395195612\n",
      "Best parameters :  {'xgbregressor__enable_categorical': False, 'xgbregressor__learning_rate': 0.1, 'xgbregressor__n_estimators': 500}\n",
      "score de la prédiction: 0.9999798517478807\n",
      "RMSE =  1.0153079651153838\n",
      "MAE =  1.2742094493587295\n",
      "median abs err =  0.8530220349595492\n"
     ]
    }
   ],
   "source": [
    "model = make_pipeline(preprocessor,XGBRegressor())\n",
    "parameters = {\n",
    "    'xgbregressor__n_estimators':[10,100,500], \n",
    "    'xgbregressor__enable_categorical':[True,False], \n",
    "    'xgbregressor__learning_rate':[0.1,0.3,0.5]\n",
    "}\n",
    "grid = GridSearchCV(model,parameters, cv=5, n_jobs = 5)\n",
    "grid.fit(X_train, y_train)\n",
    "print('Méthode: XGBoost MinMaxScaler TargetEncoder')\n",
    "print (\"Best score : \", grid.best_score_)\n",
    "print(\"Best parameters : \",grid.best_params_)\n",
    "y_pred = grid.predict(X_test)\n",
    "print(\"score de la prédiction:\", grid.score(X_train, y_train))\n",
    "print(\"RMSE = \",mean_absolute_error(y_test,y_pred))\n",
    "print(\"MAE = \",np.sqrt(mean_squared_error(y_test,y_pred)))\n",
    "print(\"median abs err = \",median_absolute_error(y_test,y_pred))"
   ]
  },
  {
   "cell_type": "markdown",
   "id": "66c13244",
   "metadata": {},
   "source": [
    "# CONCLUSIONS CONCERNANT LES PREDICTIONS DE CONSOMMATION D'ENERGIE"
   ]
  },
  {
   "cell_type": "markdown",
   "id": "9355e1a6",
   "metadata": {},
   "source": [
    "#### ENERGYSTARScore :  \n",
    "  \n",
    "La modélisation en incluant cette variable donne de meilleurs résultats : 0.752 VS 0.718 (XGBoostRegressor via GridSearchCV).  En outre, celle-ci apparaît en deuxième position dans la représentation des features importances du modèle, ce qui montre son influence relativement importante sur le modèle.  \n",
    "  \n",
    "    \n",
    "#### Encodage / Transformation :  \n",
    "  \n",
    "La méthode d'encodage affichant les meilleurs résultats est le OneHotEncoder couplé au MinMaxScaler.  \n",
    "  \n",
    "    \n",
    "#### Modélisation :  \n",
    "  \n",
    "Le modèle affichant les meilleurs résultats est le XGBoostRegressor (best score : 0.752).  \n",
    "En outre, ce modèle affiche un temps d'entraînement très inférieur au modèle RandomForest ce qui, sur de plus importantes bases de données, aurait une importance significative.      \n",
    "Mis à part la variable ENERGYSTARScore, les variables ayant le plus d'influence sur notre modèle sont la surface totale, l'âge du bâtiment, le type d'utilisation ou encore la proportion du parking sur l'ensemble de la surface."
   ]
  },
  {
   "cell_type": "code",
   "execution_count": null,
   "id": "69858013",
   "metadata": {},
   "outputs": [],
   "source": []
  }
 ],
 "metadata": {
  "kernelspec": {
   "display_name": "Python 3 (ipykernel)",
   "language": "python",
   "name": "python3"
  },
  "language_info": {
   "codemirror_mode": {
    "name": "ipython",
    "version": 3
   },
   "file_extension": ".py",
   "mimetype": "text/x-python",
   "name": "python",
   "nbconvert_exporter": "python",
   "pygments_lexer": "ipython3",
   "version": "3.9.16"
  }
 },
 "nbformat": 4,
 "nbformat_minor": 5
}
